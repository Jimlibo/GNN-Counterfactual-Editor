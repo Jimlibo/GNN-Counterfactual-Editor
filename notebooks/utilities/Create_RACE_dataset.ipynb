{
 "cells": [
  {
   "cell_type": "markdown",
   "id": "e37699ee-b909-41d3-b73c-8b92098fcdf8",
   "metadata": {},
   "source": [
    "# Create RACE Dataset\n",
    "<b>Date:</b> October 23, 2023 \\\n",
    "<b>Author:</b> Dimitris Lymperopoulos \\\n",
    "<b>Description:</b> A notebook used to generate csv file using as input the folder with the RACE data"
   ]
  },
  {
   "cell_type": "markdown",
   "id": "3afcf391-73bb-4fc7-8b67-1c2b7a58f3d8",
   "metadata": {},
   "source": [
    "## Imports"
   ]
  },
  {
   "cell_type": "code",
   "execution_count": 1,
   "id": "19f04833-2fc2-4153-a5a5-0b676eca4573",
   "metadata": {},
   "outputs": [],
   "source": [
    "import os\n",
    "import json\n",
    "import pandas as pd\n",
    "\n",
    "from itertools import chain\n",
    "from pathlib import Path"
   ]
  },
  {
   "cell_type": "markdown",
   "id": "48dacff2-3819-466f-a5c6-a5915e164722",
   "metadata": {},
   "source": [
    "## Parameters"
   ]
  },
  {
   "cell_type": "code",
   "execution_count": 29,
   "id": "e6ef1ecb-fe05-40d3-af9e-740be0a9f336",
   "metadata": {},
   "outputs": [],
   "source": [
    "TRAIN_HIGH = '../../Data/RACE/train/high/'\n",
    "TRAIN_MID = '../../Data/RACE/train/middle/'\n",
    "TEST_HIGH = '../../Data/RACE/test/high/'\n",
    "TEST_MID = '../../Data/RACE/test/middle/'\n",
    "\n",
    "INTERNAL_SEP = '~'\n",
    "\n",
    "TRAIN_CSV = '../../Data/RACE/train/race_train.csv'\n",
    "TEST_CSV = '../../Data/RACE/test/race_test.csv'\n"
   ]
  },
  {
   "cell_type": "markdown",
   "id": "f3e0f99b-e730-486b-baf0-b4623ca3eb17",
   "metadata": {},
   "source": [
    "## Clean Text Function"
   ]
  },
  {
   "cell_type": "code",
   "execution_count": 3,
   "id": "8a71dc82-e3ec-4f5b-be21-5b4b8a146f52",
   "metadata": {},
   "outputs": [],
   "source": [
    "def clean_text(text, special_chars=[\"\\n\", \"\\t\"]):\n",
    "    for char in special_chars:\n",
    "        text = text.replace(char, \" \")\n",
    "    return text"
   ]
  },
  {
   "cell_type": "markdown",
   "id": "c661168f-eef3-4675-af74-5e15656aff37",
   "metadata": {},
   "source": [
    "## Create Training CSV"
   ]
  },
  {
   "cell_type": "code",
   "execution_count": 32,
   "id": "cede7047-84a4-4518-9152-c2f963c04aa3",
   "metadata": {},
   "outputs": [],
   "source": [
    "answer_mapping = {\"A\": 0, \"B\": 1, \"C\": 2, \"D\": 3}\n",
    "\n",
    "train_path = chain(\n",
    "    Path(TRAIN_HIGH).glob('*.txt'), \n",
    "    Path(TRAIN_MID).glob('*.txt')\n",
    ")\n",
    "\n",
    "ids = []\n",
    "articles_lst = []\n",
    "questions_lst = []\n",
    "options_lst = []\n",
    "answers_idx = []\n",
    "\n",
    "for p in train_path:\n",
    "    data = json.loads(p.read_text())\n",
    "    iterator = enumerate(zip(data[\"answers\"], \n",
    "                             data[\"options\"], \n",
    "                             data[\"questions\"]))\n",
    "    for idx, (answer, options, question) in iterator: \n",
    "        qid = str(data[\"id\"][:-4] + \"_\" + str(idx))\n",
    "        ids.append(qid) \n",
    "        articles_lst.append(clean_text(data[\"article\"]))\n",
    "        questions_lst.append(question)\n",
    "        options_lst.append(options)\n",
    "        answers_idx.append(answer_mapping[answer])"
   ]
  },
  {
   "cell_type": "code",
   "execution_count": 33,
   "id": "5a51e850-efda-46d0-8da9-f99dc45f6ab1",
   "metadata": {},
   "outputs": [
    {
     "name": "stdout",
     "output_type": "stream",
     "text": [
      "{<class 'str'>}\n"
     ]
    }
   ],
   "source": [
    "# convert list to str for each \"cell\" containing options\n",
    "options_lst = list(map(lambda x: INTERNAL_SEP.join(x), options_lst))   \n",
    "\n",
    "print(set(type(opt) for  opt in options_lst))   # should be <class 'str'>"
   ]
  },
  {
   "cell_type": "code",
   "execution_count": 35,
   "id": "664753ff-0ddf-47c3-8a91-c778d768b56b",
   "metadata": {},
   "outputs": [
    {
     "name": "stdout",
     "output_type": "stream",
     "text": [
      "        ids                                           articles  \\\n",
      "0   high1_0  My husband is a born shopper. He loves to look...   \n",
      "1   high1_1  My husband is a born shopper. He loves to look...   \n",
      "2   high1_2  My husband is a born shopper. He loves to look...   \n",
      "3   high1_3  My husband is a born shopper. He loves to look...   \n",
      "4  high10_0  Tea drinking was common in China for nearly on...   \n",
      "\n",
      "                                           questions  \\\n",
      "0          The husband likes shopping because   _  .   \n",
      "1      They never go shopping together because  _  .   \n",
      "2    Jimmy can't do the shopping well because   _  .   \n",
      "3  Jimmy didn't buy what his mother wanted becaus...   \n",
      "4  Which of the following is true of the introduc...   \n",
      "\n",
      "                                             options  answers  \n",
      "0  he has much money.~he likes the shops.~he like...        2  \n",
      "1  their ways of shopping are quite different~the...        0  \n",
      "2  he is young~he is absent-minded~he often loses...        1  \n",
      "3  the shop was closed that day~the policeman sto...        2  \n",
      "4  The Britons got expensive tea from India.~Tea ...        1  \n",
      "\n",
      "Training Dataframe has shape: (87866, 5)\n"
     ]
    }
   ],
   "source": [
    "train_df = pd.DataFrame({\n",
    "    'ids': ids,\n",
    "    'articles': articles_lst,\n",
    "    'questions': questions_lst,\n",
    "    'options': options_lst,\n",
    "    'answers': answers_idx\n",
    "})\n",
    "\n",
    "print(train_df.head())\n",
    "print(\"\\nTraining Dataframe has shape: {}\".format(train_df.shape))"
   ]
  },
  {
   "cell_type": "code",
   "execution_count": 36,
   "id": "7150b86c-a580-4999-a39b-fd524ab8d2a1",
   "metadata": {},
   "outputs": [],
   "source": [
    "train_df.to_csv(TRAIN_CSV, index=False)"
   ]
  },
  {
   "cell_type": "markdown",
   "id": "b7424f9e-cb30-4b1c-89e8-a71586ba74d1",
   "metadata": {},
   "source": [
    "## Create Testing CSV"
   ]
  },
  {
   "cell_type": "code",
   "execution_count": 37,
   "id": "9c19285b-a17d-4bbc-b6a8-f5ec19683e17",
   "metadata": {},
   "outputs": [],
   "source": [
    "test_path = chain(\n",
    "    Path(TEST_HIGH).glob('*.txt'), \n",
    "    Path(TEST_MID).glob('*.txt')\n",
    ")\n",
    "\n",
    "ids = []\n",
    "articles_lst = []\n",
    "questions_lst = []\n",
    "options_lst = []\n",
    "answers_idx = []\n",
    "\n",
    "for p in test_path:\n",
    "    data = json.loads(p.read_text())\n",
    "    iterator = enumerate(zip(data[\"answers\"], \n",
    "                             data[\"options\"], \n",
    "                             data[\"questions\"]))\n",
    "    for idx, (answer, options, question) in iterator: \n",
    "        qid = str(data[\"id\"][:-4] + \"_\" + str(idx))\n",
    "        ids.append(qid) \n",
    "        articles_lst.append(clean_text(data[\"article\"]))\n",
    "        questions_lst.append(question)\n",
    "        options_lst.append(options)\n",
    "        answers_idx.append(answer_mapping[answer])"
   ]
  },
  {
   "cell_type": "code",
   "execution_count": 38,
   "id": "dab22d90-25c6-4f4d-8db6-a9eaf32536ee",
   "metadata": {},
   "outputs": [
    {
     "name": "stdout",
     "output_type": "stream",
     "text": [
      "{<class 'str'>}\n"
     ]
    }
   ],
   "source": [
    "# convert list to str for each \"cell\" containing options\n",
    "options_lst = list(map(lambda x: INTERNAL_SEP.join(x), options_lst))   \n",
    "\n",
    "print(set(type(opt) for  opt in options_lst))   # should be <class 'str'>"
   ]
  },
  {
   "cell_type": "code",
   "execution_count": 39,
   "id": "ef1438f6-72d1-4e23-8a04-5d2c42c588f5",
   "metadata": {},
   "outputs": [
    {
     "name": "stdout",
     "output_type": "stream",
     "text": [
      "           ids                                           articles  \\\n",
      "0  high10001_0  Studies show that you may be lied to every day...   \n",
      "1  high10001_1  Studies show that you may be lied to every day...   \n",
      "2  high10001_2  Studies show that you may be lied to every day...   \n",
      "3  high10001_3  Studies show that you may be lied to every day...   \n",
      "4  high10001_4  Studies show that you may be lied to every day...   \n",
      "\n",
      "                                           questions  \\\n",
      "0     From Para.1 we learn that lying is very   _  .   \n",
      "1  According to the passage, a lie works when   _  .   \n",
      "2                    Lying is complex because   _  .   \n",
      "3  The examples of kids lying in the passage show...   \n",
      "4  What will the writer most likely talk about if...   \n",
      "\n",
      "                                             options  answers  \n",
      "0                    harmful~easy~interesting~common        3  \n",
      "1  the liar's words are sweet enough~it is given ...        2  \n",
      "2  it is practiced by clever ones~people are for ...        1  \n",
      "3  lying is a sign of intelligent development~lyi...        0  \n",
      "4  How to become clever liars.~How to avoid stupi...        3  \n",
      "\n",
      "Testing Dataframe has shape: (4934, 5)\n"
     ]
    }
   ],
   "source": [
    "test_df = pd.DataFrame({\n",
    "    'ids': ids,\n",
    "    'articles': articles_lst,\n",
    "    'questions': questions_lst,\n",
    "    'options': options_lst,\n",
    "    'answers': answers_idx\n",
    "})\n",
    "\n",
    "print(test_df.head())\n",
    "print(\"\\nTesting Dataframe has shape: {}\".format(test_df.shape))"
   ]
  },
  {
   "cell_type": "code",
   "execution_count": 40,
   "id": "c421b903-2b1c-493b-9375-32764d1218f0",
   "metadata": {},
   "outputs": [],
   "source": [
    "test_df.to_csv(TEST_CSV, index=False)"
   ]
  }
 ],
 "metadata": {
  "kernelspec": {
   "display_name": "nlp_venv",
   "language": "python",
   "name": "nlp_venv"
  },
  "language_info": {
   "codemirror_mode": {
    "name": "ipython",
    "version": 3
   },
   "file_extension": ".py",
   "mimetype": "text/x-python",
   "name": "python",
   "nbconvert_exporter": "python",
   "pygments_lexer": "ipython3",
   "version": "3.9.18"
  }
 },
 "nbformat": 4,
 "nbformat_minor": 5
}
