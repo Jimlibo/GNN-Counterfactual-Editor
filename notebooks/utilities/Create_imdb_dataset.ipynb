{
 "cells": [
  {
   "cell_type": "markdown",
   "id": "dbc9cd4b-7292-4b92-89d8-88d35f61acee",
   "metadata": {},
   "source": [
    "# Create IMDB Dataset\n",
    "<b>Date:</b> October 22, 2023 \\\n",
    "<b>Author:</b> Dimitris Lymperopoulos \\\n",
    "<b>Description:</b> A notebook used to generate csv file using as input the folder with the IMDB Reviews data"
   ]
  },
  {
   "cell_type": "markdown",
   "id": "2a56df1b-5a3e-47a4-b47d-3560f47dffd1",
   "metadata": {},
   "source": [
    "## Imports"
   ]
  },
  {
   "cell_type": "code",
   "execution_count": 1,
   "id": "e450e38a-5673-4a9d-b1a2-14bfd5a4c9d0",
   "metadata": {},
   "outputs": [],
   "source": [
    "import os\n",
    "import pandas as pd\n",
    "import numpy as np"
   ]
  },
  {
   "cell_type": "markdown",
   "id": "460f2e1d-75d9-467a-85ca-713bfd1bfe38",
   "metadata": {},
   "source": [
    "## Parameters"
   ]
  },
  {
   "cell_type": "code",
   "execution_count": 19,
   "id": "9e604d16-5395-4924-88bf-735b34051ded",
   "metadata": {},
   "outputs": [],
   "source": [
    "# source directory parameters\n",
    "TRAIN_POS = '../../Data/IMDB/train/pos/'\n",
    "TRAIN_NEG = '../../Data/IMDB/train/neg/'\n",
    "TEST_POS = '../../Data/IMDB/test/pos/'\n",
    "TEST_NEG = '../../Data/IMDB/test/neg/'\n",
    "\n",
    "# destination directory parameters\n",
    "TRAIN_FILEPATH = '../../Data/IMDB/train/imdb_train.csv'\n",
    "TEST_FILEPATH = '../../Data/IMDB/test/imdb_test.csv'"
   ]
  },
  {
   "cell_type": "markdown",
   "id": "5f59220a-aac9-491f-af96-6cb5384dea48",
   "metadata": {},
   "source": [
    "## Create Training CSV"
   ]
  },
  {
   "cell_type": "code",
   "execution_count": 21,
   "id": "60422a3b-2195-4484-9ce4-ef93a5d888c4",
   "metadata": {},
   "outputs": [],
   "source": [
    "training_reviews = []\n",
    "\n",
    "# get all positive reviews of the training set\n",
    "for file in os.listdir(TRAIN_POS):\n",
    "    filepath = os.path.join(TRAIN_POS, file)\n",
    "    try:\n",
    "        with open(filepath, 'r') as f:\n",
    "            training_reviews.append(\"\\n\".join(f.readlines()))\n",
    "            \n",
    "    except UnicodeDecodeError:\n",
    "        with open(filepath, 'r', encoding='utf-8') as f:\n",
    "            training_reviews.append(\"\\n\".join(f.readlines()))\n",
    "\n",
    "labels = ['pos'] * len(training_reviews)\n",
    "\n",
    "\n",
    "# get all negative reviews of the training set\n",
    "for file in os.listdir(TRAIN_NEG):\n",
    "    filepath = os.path.join(TRAIN_NEG, file)\n",
    "    \n",
    "    try:\n",
    "        with open(filepath, 'r') as f:\n",
    "            training_reviews.append(\"\\n\".join(f.readlines()))\n",
    "            \n",
    "    except UnicodeDecodeError:\n",
    "        with open(filepath, 'r', encoding='utf-8') as f:\n",
    "            training_reviews.append(\"\\n\".join(f.readlines()))\n",
    "    labels.append('neg')"
   ]
  },
  {
   "cell_type": "code",
   "execution_count": 22,
   "id": "e26fe38f-2454-4665-a43a-e654ca912e9f",
   "metadata": {
    "scrolled": true
   },
   "outputs": [
    {
     "name": "stdout",
     "output_type": "stream",
     "text": [
      "                                              Review label\n",
      "0  Bromwell High is a cartoon comedy. It ran at t...   pos\n",
      "1  Homelessness (or Houselessness as George Carli...   pos\n",
      "2  Brilliant over-acting by Lesley Ann Warren. Be...   pos\n",
      "3  This is easily the most underrated film inn th...   pos\n",
      "4  This is not the typical Mel Brooks film. It wa...   pos\n",
      "\n",
      " Training Dataframe has shape: (25000, 2)\n"
     ]
    }
   ],
   "source": [
    "train_df = pd.DataFrame({\n",
    "    'Review': training_reviews,\n",
    "    'label': labels\n",
    "})\n",
    "\n",
    "print(train_df.head())\n",
    "\n",
    "print(\"\\n Training Dataframe has shape: {}\".format(train_df.shape))"
   ]
  },
  {
   "cell_type": "code",
   "execution_count": 20,
   "id": "4cede038-e6a3-4fd8-b9d4-a97a596449d2",
   "metadata": {},
   "outputs": [],
   "source": [
    "train_df.to_csv(TRAIN_FILEPATH, index=False)"
   ]
  },
  {
   "cell_type": "markdown",
   "id": "5e7c43b8-f343-4dcb-a23b-f8852153d77d",
   "metadata": {},
   "source": [
    "## Create Testing CSV"
   ]
  },
  {
   "cell_type": "code",
   "execution_count": 27,
   "id": "d2f43b75-b709-43ef-920f-2288801fe480",
   "metadata": {},
   "outputs": [],
   "source": [
    "test_reviews = []\n",
    "\n",
    "# get all positive reviews of the training set\n",
    "for file in os.listdir(TEST_POS):\n",
    "    filepath = os.path.join(TEST_POS, file)\n",
    "    try:\n",
    "        with open(filepath, 'r') as f:\n",
    "            test_reviews.append(\"\\n\".join(f.readlines()))\n",
    "            \n",
    "    except UnicodeDecodeError:\n",
    "        with open(filepath, 'r', encoding='utf-8') as f:\n",
    "            test_reviews.append(\"\\n\".join(f.readlines()))\n",
    "\n",
    "test_labels = ['pos'] * len(test_reviews)\n",
    "\n",
    "\n",
    "# get all negative reviews of the training set\n",
    "for file in os.listdir(TEST_NEG):\n",
    "    filepath = os.path.join(TEST_NEG, file)\n",
    "    \n",
    "    try:\n",
    "        with open(filepath, 'r') as f:\n",
    "            test_reviews.append(\"\\n\".join(f.readlines()))\n",
    "            \n",
    "    except UnicodeDecodeError:\n",
    "        with open(filepath, 'r', encoding='utf-8') as f:\n",
    "            test_reviews.append(\"\\n\".join(f.readlines()))\n",
    "    test_labels.append('neg')"
   ]
  },
  {
   "cell_type": "code",
   "execution_count": 28,
   "id": "810b4c61-cf44-4d24-9e4e-ab66e8b450b2",
   "metadata": {},
   "outputs": [
    {
     "name": "stdout",
     "output_type": "stream",
     "text": [
      "                                              Review label\n",
      "0  I went and saw this movie last night after bei...   pos\n",
      "1  Actor turned director Bill Paxton follows up h...   pos\n",
      "2  As a recreational golfer with some knowledge o...   pos\n",
      "3  I saw this film in a sneak preview, and it is ...   pos\n",
      "4  Bill Paxton has taken the true story of the 19...   pos\n",
      "\n",
      " Testing Dataframe has shape: (25000, 2)\n"
     ]
    }
   ],
   "source": [
    "test_df = pd.DataFrame({\n",
    "    'Review': test_reviews,\n",
    "    'label': test_labels\n",
    "})\n",
    "\n",
    "print(test_df.head())\n",
    "\n",
    "print(\"\\n Testing Dataframe has shape: {}\".format(test_df.shape))"
   ]
  },
  {
   "cell_type": "code",
   "execution_count": 30,
   "id": "ac557e5d-7877-4d6c-ad83-6e458ad2d80f",
   "metadata": {},
   "outputs": [],
   "source": [
    "test_df.to_csv(TEST_FILEPATH, index=False)"
   ]
  }
 ],
 "metadata": {
  "kernelspec": {
   "display_name": "nlp_venv",
   "language": "python",
   "name": "nlp_venv"
  },
  "language_info": {
   "codemirror_mode": {
    "name": "ipython",
    "version": 3
   },
   "file_extension": ".py",
   "mimetype": "text/x-python",
   "name": "python",
   "nbconvert_exporter": "python",
   "pygments_lexer": "ipython3",
   "version": "3.9.18"
  }
 },
 "nbformat": 4,
 "nbformat_minor": 5
}
