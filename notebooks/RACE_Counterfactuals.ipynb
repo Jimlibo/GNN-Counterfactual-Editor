{
 "cells": [
  {
   "cell_type": "markdown",
   "id": "0868adcf-aacc-47e0-9ed0-1357a0e77953",
   "metadata": {},
   "source": [
    "# RACE Counterfactuals"
   ]
  },
  {
   "cell_type": "markdown",
   "id": "669e81c4-8a43-43e1-b921-fd30ecd99ed4",
   "metadata": {},
   "source": [
    "## Imports"
   ]
  },
  {
   "cell_type": "code",
   "execution_count": 1,
   "id": "e0f67860-69fa-47b2-85fa-b965169ac164",
   "metadata": {},
   "outputs": [
    {
     "name": "stderr",
     "output_type": "stream",
     "text": [
      "C:\\Users\\jimli\\anaconda3\\envs\\nlp_venv\\lib\\site-packages\\tqdm\\auto.py:21: TqdmWarning: IProgress not found. Please update jupyter and ipywidgets. See https://ipywidgets.readthedocs.io/en/stable/user_install.html\n",
      "  from .autonotebook import tqdm as notebook_tqdm\n",
      "[nltk_data] Downloading package punkt to\n",
      "[nltk_data]     C:\\Users\\jimli\\AppData\\Roaming\\nltk_data...\n",
      "[nltk_data]   Package punkt is already up-to-date!\n",
      "[nltk_data] Downloading package wordnet to\n",
      "[nltk_data]     C:\\Users\\jimli\\AppData\\Roaming\\nltk_data...\n",
      "[nltk_data]   Package wordnet is already up-to-date!\n",
      "[nltk_data] Downloading package omw-1.4 to\n",
      "[nltk_data]     C:\\Users\\jimli\\AppData\\Roaming\\nltk_data...\n",
      "[nltk_data]   Package omw-1.4 is already up-to-date!\n"
     ]
    }
   ],
   "source": [
    "%run functions/Edge_Weights_Updating.ipynb"
   ]
  },
  {
   "cell_type": "markdown",
   "id": "bdac510d-8af0-4f3c-b4a7-993f534af87b",
   "metadata": {},
   "source": [
    "## Data Reading"
   ]
  },
  {
   "cell_type": "code",
   "execution_count": null,
   "id": "3d989cf3-f487-4f07-aa14-4fd4b3aed180",
   "metadata": {},
   "outputs": [],
   "source": [
    "train_df = pd.read_csv('../Data/RACE/train/race_train.csv')\n",
    "train_df.head()"
   ]
  },
  {
   "cell_type": "code",
   "execution_count": null,
   "id": "c147a369-6b60-4175-ad47-95b317b35ef8",
   "metadata": {},
   "outputs": [],
   "source": [
    "train_df = pd.read_csv('../Data/RACE/test/race_test.csv')\n",
    "train_df.head()"
   ]
  },
  {
   "cell_type": "code",
   "execution_count": null,
   "id": "fba3448a-c886-43e1-97d9-e8b7598193e8",
   "metadata": {},
   "outputs": [],
   "source": [
    "df_all = pd.concat([train_df, test_df], ignore_index=True)\n",
    "assert df_all.shape[0] == train_df.shape[0] + test_df.shape[0]\n",
    "\n",
    "df_all.head()"
   ]
  },
  {
   "cell_type": "code",
   "execution_count": null,
   "id": "a122491c-ce1c-4a51-995a-609d259608a3",
   "metadata": {},
   "outputs": [],
   "source": [
    "sentences = test_df[['articles']]\n",
    "sentences.head()"
   ]
  },
  {
   "cell_type": "markdown",
   "id": "4934ca55-5014-4307-8b54-6615e48ab05c",
   "metadata": {},
   "source": [
    "## Counterfactuals based on Fluency"
   ]
  },
  {
   "cell_type": "code",
   "execution_count": null,
   "id": "ef62b361-899b-4059-b2d8-025938c47af1",
   "metadata": {},
   "outputs": [],
   "source": [
    "fluent_baseline_metric, baseline_counter_df = get_baseline_metric(sentences, pos= 'adv', eval_metric=get_fluency, antonyms=True)\n",
    "print(\"Baseline metric value: {}\".format(fluent_baseline_metric))"
   ]
  },
  {
   "cell_type": "markdown",
   "id": "aa516b5a-0fe9-40a5-898e-695129cefbaa",
   "metadata": {},
   "source": [
    "## Counterfactuals based on Bertscore"
   ]
  },
  {
   "cell_type": "code",
   "execution_count": null,
   "id": "90cef551-09e4-46bb-bfe1-3737790e0209",
   "metadata": {},
   "outputs": [],
   "source": [
    "bert_baseline_metric = get_bertscore(sentences, baseline_counter_df)\n",
    "print(\"Baseline metric value: {}\".format(bert_baseline_metric))"
   ]
  },
  {
   "cell_type": "markdown",
   "id": "79e5c23d-716b-4192-845f-9f35ca958ba6",
   "metadata": {},
   "source": [
    "## Counterfactuals based on Fluency and Bertscore"
   ]
  },
  {
   "cell_type": "code",
   "execution_count": null,
   "id": "39aa31df-5147-40e1-a040-9a5afc51b7d8",
   "metadata": {},
   "outputs": [],
   "source": [
    "fluent_bert_baseline_metric = 2 * fluent_baseline_metric * (1 - bert_baseline_metric) / (fluent_baseline_metric + 1 - bert_baseline_metric)\n",
    "print(\"Baseline metric value: {}\".format(fluent_bert_baseline_metric))"
   ]
  }
 ],
 "metadata": {
  "kernelspec": {
   "display_name": "nlp_venv",
   "language": "python",
   "name": "nlp_venv"
  },
  "language_info": {
   "codemirror_mode": {
    "name": "ipython",
    "version": 3
   },
   "file_extension": ".py",
   "mimetype": "text/x-python",
   "name": "python",
   "nbconvert_exporter": "python",
   "pygments_lexer": "ipython3",
   "version": "3.9.18"
  }
 },
 "nbformat": 4,
 "nbformat_minor": 5
}
