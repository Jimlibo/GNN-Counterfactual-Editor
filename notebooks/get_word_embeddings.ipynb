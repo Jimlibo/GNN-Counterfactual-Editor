{
 "metadata": {
  "kernelspec": {
   "language": "python",
   "display_name": "Python 3",
   "name": "python3"
  },
  "language_info": {
   "name": "python",
   "version": "3.10.13",
   "mimetype": "text/x-python",
   "codemirror_mode": {
    "name": "ipython",
    "version": 3
   },
   "pygments_lexer": "ipython3",
   "nbconvert_exporter": "python",
   "file_extension": ".py"
  },
  "kaggle": {
   "accelerator": "gpu",
   "dataSources": [
    {
     "sourceId": 8561098,
     "sourceType": "datasetVersion",
     "datasetId": 5117129
    },
    {
     "sourceId": 8583980,
     "sourceType": "datasetVersion",
     "datasetId": 5133827
    }
   ],
   "dockerImageVersionId": 30698,
   "isInternetEnabled": true,
   "language": "python",
   "sourceType": "notebook",
   "isGpuEnabled": true
  }
 },
 "nbformat_minor": 4,
 "nbformat": 4,
 "cells": [
  {
   "cell_type": "markdown",
   "source": [
    "## Imports"
   ],
   "metadata": {}
  },
  {
   "cell_type": "code",
   "source": [
    "! pip install sentence-transformers"
   ],
   "metadata": {
    "execution": {
     "iopub.status.busy": "2024-06-14T16:28:53.871288Z",
     "iopub.execute_input": "2024-06-14T16:28:53.871688Z",
     "iopub.status.idle": "2024-06-14T16:29:07.864937Z",
     "shell.execute_reply.started": "2024-06-14T16:28:53.871656Z",
     "shell.execute_reply": "2024-06-14T16:29:07.863955Z"
    },
    "trusted": true
   },
   "execution_count": 1,
   "outputs": [
    {
     "name": "stdout",
     "text": "Collecting sentence-transformers\n  Downloading sentence_transformers-3.0.1-py3-none-any.whl.metadata (10 kB)\nRequirement already satisfied: transformers<5.0.0,>=4.34.0 in /opt/conda/lib/python3.10/site-packages (from sentence-transformers) (4.39.3)\nRequirement already satisfied: tqdm in /opt/conda/lib/python3.10/site-packages (from sentence-transformers) (4.66.1)\nRequirement already satisfied: torch>=1.11.0 in /opt/conda/lib/python3.10/site-packages (from sentence-transformers) (2.1.2)\nRequirement already satisfied: numpy in /opt/conda/lib/python3.10/site-packages (from sentence-transformers) (1.26.4)\nRequirement already satisfied: scikit-learn in /opt/conda/lib/python3.10/site-packages (from sentence-transformers) (1.2.2)\nRequirement already satisfied: scipy in /opt/conda/lib/python3.10/site-packages (from sentence-transformers) (1.11.4)\nRequirement already satisfied: huggingface-hub>=0.15.1 in /opt/conda/lib/python3.10/site-packages (from sentence-transformers) (0.22.2)\nRequirement already satisfied: Pillow in /opt/conda/lib/python3.10/site-packages (from sentence-transformers) (9.5.0)\nRequirement already satisfied: filelock in /opt/conda/lib/python3.10/site-packages (from huggingface-hub>=0.15.1->sentence-transformers) (3.13.1)\nRequirement already satisfied: fsspec>=2023.5.0 in /opt/conda/lib/python3.10/site-packages (from huggingface-hub>=0.15.1->sentence-transformers) (2024.2.0)\nRequirement already satisfied: packaging>=20.9 in /opt/conda/lib/python3.10/site-packages (from huggingface-hub>=0.15.1->sentence-transformers) (21.3)\nRequirement already satisfied: pyyaml>=5.1 in /opt/conda/lib/python3.10/site-packages (from huggingface-hub>=0.15.1->sentence-transformers) (6.0.1)\nRequirement already satisfied: requests in /opt/conda/lib/python3.10/site-packages (from huggingface-hub>=0.15.1->sentence-transformers) (2.31.0)\nRequirement already satisfied: typing-extensions>=3.7.4.3 in /opt/conda/lib/python3.10/site-packages (from huggingface-hub>=0.15.1->sentence-transformers) (4.9.0)\nRequirement already satisfied: sympy in /opt/conda/lib/python3.10/site-packages (from torch>=1.11.0->sentence-transformers) (1.12)\nRequirement already satisfied: networkx in /opt/conda/lib/python3.10/site-packages (from torch>=1.11.0->sentence-transformers) (3.2.1)\nRequirement already satisfied: jinja2 in /opt/conda/lib/python3.10/site-packages (from torch>=1.11.0->sentence-transformers) (3.1.2)\nRequirement already satisfied: regex!=2019.12.17 in /opt/conda/lib/python3.10/site-packages (from transformers<5.0.0,>=4.34.0->sentence-transformers) (2023.12.25)\nRequirement already satisfied: tokenizers<0.19,>=0.14 in /opt/conda/lib/python3.10/site-packages (from transformers<5.0.0,>=4.34.0->sentence-transformers) (0.15.2)\nRequirement already satisfied: safetensors>=0.4.1 in /opt/conda/lib/python3.10/site-packages (from transformers<5.0.0,>=4.34.0->sentence-transformers) (0.4.3)\nRequirement already satisfied: joblib>=1.1.1 in /opt/conda/lib/python3.10/site-packages (from scikit-learn->sentence-transformers) (1.4.0)\nRequirement already satisfied: threadpoolctl>=2.0.0 in /opt/conda/lib/python3.10/site-packages (from scikit-learn->sentence-transformers) (3.2.0)\nRequirement already satisfied: pyparsing!=3.0.5,>=2.0.2 in /opt/conda/lib/python3.10/site-packages (from packaging>=20.9->huggingface-hub>=0.15.1->sentence-transformers) (3.1.1)\nRequirement already satisfied: MarkupSafe>=2.0 in /opt/conda/lib/python3.10/site-packages (from jinja2->torch>=1.11.0->sentence-transformers) (2.1.3)\nRequirement already satisfied: charset-normalizer<4,>=2 in /opt/conda/lib/python3.10/site-packages (from requests->huggingface-hub>=0.15.1->sentence-transformers) (3.3.2)\nRequirement already satisfied: idna<4,>=2.5 in /opt/conda/lib/python3.10/site-packages (from requests->huggingface-hub>=0.15.1->sentence-transformers) (3.6)\nRequirement already satisfied: urllib3<3,>=1.21.1 in /opt/conda/lib/python3.10/site-packages (from requests->huggingface-hub>=0.15.1->sentence-transformers) (1.26.18)\nRequirement already satisfied: certifi>=2017.4.17 in /opt/conda/lib/python3.10/site-packages (from requests->huggingface-hub>=0.15.1->sentence-transformers) (2024.2.2)\nRequirement already satisfied: mpmath>=0.19 in /opt/conda/lib/python3.10/site-packages (from sympy->torch>=1.11.0->sentence-transformers) (1.3.0)\nDownloading sentence_transformers-3.0.1-py3-none-any.whl (227 kB)\n\u001B[2K   \u001B[90m━━━━━━━━━━━━━━━━━━━━━━━━━━━━━━━━━━━━━━━━\u001B[0m \u001B[32m227.1/227.1 kB\u001B[0m \u001B[31m5.1 MB/s\u001B[0m eta \u001B[36m0:00:00\u001B[0m00:01\u001B[0m\n\u001B[?25hInstalling collected packages: sentence-transformers\nSuccessfully installed sentence-transformers-3.0.1\n",
     "output_type": "stream"
    }
   ]
  },
  {
   "cell_type": "code",
   "source": [
    "import spacy\n",
    "import torch\n",
    "import tqdm\n",
    "import re\n",
    "import json\n",
    "import nltk\n",
    "import pandas as pd\n",
    "\n",
    "from sentence_transformers import SentenceTransformer\n",
    "from sentence_transformers.quantization import quantize_embeddings\n",
    "from sentence_transformers.util import cos_sim\n",
    "\n",
    "from scipy.spatial.distance import cosine\n",
    "\n",
    "from nltk.corpus import wordnet as wn\n",
    "from tqdm import tqdm\n",
    "\n",
    "nlp = spacy.load('en_core_web_sm')"
   ],
   "metadata": {
    "execution": {
     "iopub.status.busy": "2024-06-14T16:29:07.866753Z",
     "iopub.execute_input": "2024-06-14T16:29:07.867054Z",
     "iopub.status.idle": "2024-06-14T16:29:30.746651Z",
     "shell.execute_reply.started": "2024-06-14T16:29:07.867026Z",
     "shell.execute_reply": "2024-06-14T16:29:30.745630Z"
    },
    "trusted": true
   },
   "execution_count": 2,
   "outputs": [
    {
     "name": "stderr",
     "text": "2024-06-14 16:29:21.155488: E external/local_xla/xla/stream_executor/cuda/cuda_dnn.cc:9261] Unable to register cuDNN factory: Attempting to register factory for plugin cuDNN when one has already been registered\n2024-06-14 16:29:21.155600: E external/local_xla/xla/stream_executor/cuda/cuda_fft.cc:607] Unable to register cuFFT factory: Attempting to register factory for plugin cuFFT when one has already been registered\n2024-06-14 16:29:21.308525: E external/local_xla/xla/stream_executor/cuda/cuda_blas.cc:1515] Unable to register cuBLAS factory: Attempting to register factory for plugin cuBLAS when one has already been registered\n",
     "output_type": "stream"
    }
   ]
  },
  {
   "cell_type": "code",
   "source": [
    "!unzip /usr/share/nltk_data/corpora/wordnet.zip -d /usr/share/nltk_data/corpora/ "
   ],
   "metadata": {
    "execution": {
     "iopub.status.busy": "2024-06-14T16:29:30.751766Z",
     "iopub.execute_input": "2024-06-14T16:29:30.752050Z",
     "iopub.status.idle": "2024-06-14T16:29:32.049761Z",
     "shell.execute_reply.started": "2024-06-14T16:29:30.752026Z",
     "shell.execute_reply": "2024-06-14T16:29:32.048861Z"
    },
    "trusted": true
   },
   "execution_count": 3,
   "outputs": [
    {
     "name": "stdout",
     "text": "Archive:  /usr/share/nltk_data/corpora/wordnet.zip\n   creating: /usr/share/nltk_data/corpora/wordnet/\n  inflating: /usr/share/nltk_data/corpora/wordnet/lexnames  \n  inflating: /usr/share/nltk_data/corpora/wordnet/data.verb  \n  inflating: /usr/share/nltk_data/corpora/wordnet/index.adv  \n  inflating: /usr/share/nltk_data/corpora/wordnet/adv.exc  \n  inflating: /usr/share/nltk_data/corpora/wordnet/index.verb  \n  inflating: /usr/share/nltk_data/corpora/wordnet/cntlist.rev  \n  inflating: /usr/share/nltk_data/corpora/wordnet/data.adj  \n  inflating: /usr/share/nltk_data/corpora/wordnet/index.adj  \n  inflating: /usr/share/nltk_data/corpora/wordnet/LICENSE  \n  inflating: /usr/share/nltk_data/corpora/wordnet/citation.bib  \n  inflating: /usr/share/nltk_data/corpora/wordnet/noun.exc  \n  inflating: /usr/share/nltk_data/corpora/wordnet/verb.exc  \n  inflating: /usr/share/nltk_data/corpora/wordnet/README  \n  inflating: /usr/share/nltk_data/corpora/wordnet/index.sense  \n  inflating: /usr/share/nltk_data/corpora/wordnet/data.noun  \n  inflating: /usr/share/nltk_data/corpora/wordnet/data.adv  \n  inflating: /usr/share/nltk_data/corpora/wordnet/index.noun  \n  inflating: /usr/share/nltk_data/corpora/wordnet/adj.exc  \n",
     "output_type": "stream"
    }
   ]
  },
  {
   "cell_type": "markdown",
   "source": [
    "## Helping Functions"
   ],
   "metadata": {}
  },
  {
   "cell_type": "code",
   "source": [
    "def check_if_noun(sentence):\n",
    "    singular = []\n",
    "    plural = []\n",
    "    # expressions containing nouns that should not be substituted\n",
    "    exceptions = ['a group of', 'a couple of', 'group of', 'couple of', 'many',\n",
    "                  'several', 'a lot of', 'lots of', 'others', 'other']\n",
    "    expressions_to_pass = ['in front of', 'next to']\n",
    "    txt = sentence.lower()\n",
    "    for e in (exceptions+expressions_to_pass):\n",
    "        txt = txt.replace(e, '')\n",
    "\n",
    "    txt = ' '.join(txt.split())      # remove multiple whitespaces\n",
    "    doc = nlp(txt)\n",
    "    for token in doc:\n",
    "        if len(token) > 1:\n",
    "            if token.tag_ == 'NN':\n",
    "                singular.append(token.text)\n",
    "            elif token.tag_ == 'NNS':\n",
    "                plural.append(token.text)\n",
    "    return singular, plural, txt"
   ],
   "metadata": {
    "execution": {
     "iopub.status.busy": "2024-06-14T16:29:32.051013Z",
     "iopub.execute_input": "2024-06-14T16:29:32.051292Z",
     "iopub.status.idle": "2024-06-14T16:29:32.059146Z",
     "shell.execute_reply.started": "2024-06-14T16:29:32.051267Z",
     "shell.execute_reply": "2024-06-14T16:29:32.058279Z"
    },
    "trusted": true
   },
   "execution_count": 4,
   "outputs": []
  },
  {
   "cell_type": "code",
   "source": [
    "def check_if_verb(txt):\n",
    "    vbp = []\n",
    "    vbg = []\n",
    "    vb = []\n",
    "    txt = txt.lower()\n",
    "    txt = txt.strip()\n",
    "    doc = nlp(txt)\n",
    "    for token in doc:\n",
    "        if token.dep_ != 'aux':         # except auxiliary verbs\n",
    "            if token.tag_ == 'VBP':\n",
    "                vbp.append(token.text)\n",
    "            elif token.tag_ == 'VBG':\n",
    "                vbg.append(token.text)\n",
    "            elif token.tag_ == 'VB':\n",
    "                vb.append(token.text)\n",
    "\n",
    "    return vbp, vbg, vb, txt"
   ],
   "metadata": {
    "execution": {
     "iopub.status.busy": "2024-06-14T16:29:32.060428Z",
     "iopub.execute_input": "2024-06-14T16:29:32.061007Z",
     "iopub.status.idle": "2024-06-14T16:29:32.070862Z",
     "shell.execute_reply.started": "2024-06-14T16:29:32.060975Z",
     "shell.execute_reply": "2024-06-14T16:29:32.070022Z"
    },
    "trusted": true
   },
   "execution_count": 5,
   "outputs": []
  },
  {
   "cell_type": "code",
   "source": [
    "def check_if_attribute(sentence):\n",
    "    # expressions containing nouns that should not be substituted\n",
    "    txt = sentence.lower()\n",
    "    txt = ' '.join(txt.split())      # remove multiple whitespaces\n",
    "    doc = nlp(txt)\n",
    "    attr_list = []\n",
    "    for token in doc:\n",
    "        if token.pos_ == 'ADJ':\n",
    "            attr_list.append(token.text)\n",
    "    return attr_list, txt"
   ],
   "metadata": {
    "execution": {
     "iopub.status.busy": "2024-06-14T16:29:32.072009Z",
     "iopub.execute_input": "2024-06-14T16:29:32.072367Z",
     "iopub.status.idle": "2024-06-14T16:29:32.080913Z",
     "shell.execute_reply.started": "2024-06-14T16:29:32.072338Z",
     "shell.execute_reply": "2024-06-14T16:29:32.079978Z"
    },
    "trusted": true
   },
   "execution_count": 6,
   "outputs": []
  },
  {
   "cell_type": "code",
   "source": [
    "def get_synsets(syn, pos, return_index=False):\n",
    "    all_syn = []\n",
    "    indices = []\n",
    "    d = dict()\n",
    "    p = pos[0] if pos is not None else None\n",
    "    for idx, i in enumerate(syn):\n",
    "        if wn.synsets(i, pos=p):\n",
    "            s = wn.synsets(i, pos=p)[0]\n",
    "            all_syn.append(s)\n",
    "            d[s] = i\n",
    "            indices.append(idx)\n",
    "    if return_index:\n",
    "        return all_syn, d, indices\n",
    "    else:\n",
    "        return all_syn, d"
   ],
   "metadata": {
    "execution": {
     "iopub.status.busy": "2024-06-14T16:29:32.081949Z",
     "iopub.execute_input": "2024-06-14T16:29:32.082259Z",
     "iopub.status.idle": "2024-06-14T16:29:32.094650Z",
     "shell.execute_reply.started": "2024-06-14T16:29:32.082237Z",
     "shell.execute_reply": "2024-06-14T16:29:32.093673Z"
    },
    "trusted": true
   },
   "execution_count": 7,
   "outputs": []
  },
  {
   "cell_type": "code",
   "source": [
    "def get_antonym(given_word):\n",
    "    antonyms = []\n",
    "    for syn in wn.synsets(given_word):\n",
    "        for lem in syn.lemmas():\n",
    "            if lem.antonyms() and lem.antonyms()[0].synset().pos() == lem.synset().pos():\n",
    "                antonyms.append(lem.antonyms()[0].name())\n",
    "    return list(set(antonyms))   # remove duplicates and return the list"
   ],
   "metadata": {
    "execution": {
     "iopub.status.busy": "2024-06-14T16:29:32.095726Z",
     "iopub.execute_input": "2024-06-14T16:29:32.096018Z",
     "iopub.status.idle": "2024-06-14T16:29:32.104247Z",
     "shell.execute_reply.started": "2024-06-14T16:29:32.095995Z",
     "shell.execute_reply": "2024-06-14T16:29:32.103443Z"
    },
    "trusted": true
   },
   "execution_count": 8,
   "outputs": []
  },
  {
   "cell_type": "code",
   "source": [
    "def get_antonym_list(words):\n",
    "    ant_list = []\n",
    "    for w in words:\n",
    "        ant_list.extend(get_antonym(w))\n",
    "    return ant_list"
   ],
   "metadata": {
    "execution": {
     "iopub.status.busy": "2024-06-14T16:29:32.108127Z",
     "iopub.execute_input": "2024-06-14T16:29:32.108454Z",
     "iopub.status.idle": "2024-06-14T16:29:32.113978Z",
     "shell.execute_reply.started": "2024-06-14T16:29:32.108424Z",
     "shell.execute_reply": "2024-06-14T16:29:32.112979Z"
    },
    "trusted": true
   },
   "execution_count": 9,
   "outputs": []
  },
  {
   "cell_type": "code",
   "source": [
    "def create_attributes_list(sentences):\n",
    "    all_attributes = []\n",
    "    for s in sentences:\n",
    "        attribute, new_s = check_if_attribute(s)\n",
    "        all_attributes.append(attribute)\n",
    "\n",
    "    attributes = [item for sublist in all_attributes for item in sublist]\n",
    "    attributes = list(set(attributes))\n",
    "    attributes = [word.replace('\\\\n', '') for word in attributes]\n",
    "    attributes = [word.replace('\\\\', '') for word in attributes]\n",
    "\n",
    "    return attributes"
   ],
   "metadata": {
    "execution": {
     "iopub.status.busy": "2024-06-14T16:29:32.115105Z",
     "iopub.execute_input": "2024-06-14T16:29:32.115353Z",
     "iopub.status.idle": "2024-06-14T16:29:32.125019Z",
     "shell.execute_reply.started": "2024-06-14T16:29:32.115332Z",
     "shell.execute_reply": "2024-06-14T16:29:32.124075Z"
    },
    "trusted": true
   },
   "execution_count": 10,
   "outputs": []
  },
  {
   "cell_type": "code",
   "source": [
    "def create_word_list(sentences):\n",
    "    all_words = []\n",
    "    for s in sentences:\n",
    "        txt = s.lower()\n",
    "        txt = ' '.join(txt.split())      # remove multiple whitespaces\n",
    "        doc = nlp(txt)\n",
    "        all_words.extend([token.text for token in doc])\n",
    "    \n",
    "    return all_words\n",
    "        "
   ],
   "metadata": {
    "execution": {
     "iopub.status.busy": "2024-06-14T16:29:32.126877Z",
     "iopub.execute_input": "2024-06-14T16:29:32.127159Z",
     "iopub.status.idle": "2024-06-14T16:29:32.134836Z",
     "shell.execute_reply.started": "2024-06-14T16:29:32.127136Z",
     "shell.execute_reply": "2024-06-14T16:29:32.133893Z"
    },
    "trusted": true
   },
   "execution_count": 11,
   "outputs": []
  },
  {
   "cell_type": "code",
   "source": [
    "def create_verb_list(sentences):\n",
    "    all_vbp = []\n",
    "    all_vbg = []\n",
    "    all_vb = []\n",
    "\n",
    "    for s in sentences:\n",
    "        vbp, vbg, vb, new_s = check_if_verb(s)\n",
    "        all_vbp.append(vbp)\n",
    "        all_vbg.append(vbg)\n",
    "        all_vb.append(vb)\n",
    "\n",
    "    vbp = [item for sublist in all_vbp for item in sublist]\n",
    "    vbp = list(set(vbp))\n",
    "    vbp = [word.replace('\\\\n', '') for word in vbp]\n",
    "    vbp = [word.replace('\\\\', '') for word in vbp]\n",
    "\n",
    "    vbg = [item for sublist in all_vbg for item in sublist]\n",
    "    vbg = list(set(vbg))\n",
    "    vbg = [word.replace('\\\\n', '') for word in vbg]\n",
    "    vbg = [word.replace('\\\\', '') for word in vbg]\n",
    "\n",
    "    vb = [item for sublist in all_vb for item in sublist]\n",
    "    vb = list(set(vb))\n",
    "    vb = [word.replace('\\\\n', '') for word in vb]\n",
    "    vb = [word.replace('\\\\', '') for word in vb]\n",
    "\n",
    "    return vbp + vbg + vb"
   ],
   "metadata": {
    "execution": {
     "iopub.status.busy": "2024-06-14T16:29:32.135889Z",
     "iopub.execute_input": "2024-06-14T16:29:32.136762Z",
     "iopub.status.idle": "2024-06-14T16:29:32.145894Z",
     "shell.execute_reply.started": "2024-06-14T16:29:32.136731Z",
     "shell.execute_reply": "2024-06-14T16:29:32.144865Z"
    },
    "trusted": true
   },
   "execution_count": 12,
   "outputs": []
  },
  {
   "cell_type": "code",
   "source": [
    "def create_singular_list(sentences):\n",
    "    all_singulars = []\n",
    "\n",
    "    for s in sentences:\n",
    "        singular, plural, new_s = check_if_noun(s)\n",
    "        all_singulars.append(singular)\n",
    "\n",
    "    singulars = [item for sublist in all_singulars for item in sublist]\n",
    "    singulars = list(set(singulars))\n",
    "    singulars = [word.replace('\\\\n', '') for word in singulars]\n",
    "    singulars = [word.replace('\\\\', '') for word in singulars]\n",
    "\n",
    "    return singulars"
   ],
   "metadata": {
    "execution": {
     "iopub.status.busy": "2024-06-14T16:29:32.146971Z",
     "iopub.execute_input": "2024-06-14T16:29:32.147337Z",
     "iopub.status.idle": "2024-06-14T16:29:32.158871Z",
     "shell.execute_reply.started": "2024-06-14T16:29:32.147307Z",
     "shell.execute_reply": "2024-06-14T16:29:32.158035Z"
    },
    "trusted": true
   },
   "execution_count": 13,
   "outputs": []
  },
  {
   "cell_type": "code",
   "source": [
    "def load_words(data_path, data_col, antonyms=False, row_limit=1000):\n",
    "    # load the data, keeping only desired column and limited number of rows\n",
    "    df = pd.read_csv(data_path)[[data_col]].head(row_limit)\n",
    "    \n",
    "    # get synsets for all words we are interested in (nouns, adjectives, verbs)\n",
    "    sentences = [elem[0] for elem in df.values.tolist()]\n",
    "\n",
    "    syn0 = []\n",
    "    syn0.extend(create_word_list(sentences))\n",
    "\n",
    "    syn1 = get_antonym_list(syn0) if antonyms else syn0\n",
    "\n",
    "    all_syn0, d0, ind0 = get_synsets(syn0, pos=None, return_index=True)\n",
    "    all_syn1, d1, ind1 = get_synsets(syn1, pos=None, return_index=True)\n",
    "    \n",
    "    # get all possible words in a list\n",
    "    all_words = list(set(list(d0.values()) + list(d1.values())))\n",
    "    \n",
    "    return all_words\n",
    "    "
   ],
   "metadata": {
    "execution": {
     "iopub.status.busy": "2024-06-14T16:29:32.159778Z",
     "iopub.execute_input": "2024-06-14T16:29:32.160025Z",
     "iopub.status.idle": "2024-06-14T16:29:32.169222Z",
     "shell.execute_reply.started": "2024-06-14T16:29:32.160004Z",
     "shell.execute_reply": "2024-06-14T16:29:32.168374Z"
    },
    "trusted": true
   },
   "execution_count": 14,
   "outputs": []
  },
  {
   "cell_type": "code",
   "source": [
    "def generate_encodings(model_path, word_list, embedding_dim=None):\n",
    "    # load model\n",
    "    model = SentenceTransformer(model_path, truncate_dim=embedding_dim, trust_remote_code=True)\n",
    "    \n",
    "    # create encodings\n",
    "    embeddings = model.encode(word_list)\n",
    "    \n",
    "    # create mapping from words to their embeddings\n",
    "    word_embeddings_dict = dict()\n",
    "    for idx, word in enumerate(word_list):\n",
    "        word_embeddings_dict[word] = embeddings[idx].tolist()\n",
    "    \n",
    "    return word_embeddings_dict\n",
    "    "
   ],
   "metadata": {
    "execution": {
     "iopub.status.busy": "2024-06-14T16:31:19.416769Z",
     "iopub.execute_input": "2024-06-14T16:31:19.417660Z",
     "iopub.status.idle": "2024-06-14T16:31:19.423311Z",
     "shell.execute_reply.started": "2024-06-14T16:31:19.417624Z",
     "shell.execute_reply": "2024-06-14T16:31:19.422347Z"
    },
    "trusted": true
   },
   "execution_count": 18,
   "outputs": []
  },
  {
   "cell_type": "markdown",
   "source": [
    "## Main Code"
   ],
   "metadata": {}
  },
  {
   "cell_type": "code",
   "source": [
    "# initial parameters\n",
    "data_paths = ['/kaggle/input/imdb-reviews/imdb_reviews.csv', '/kaggle/input/newsgroups/newsgroups.csv']\n",
    "data_cols = ['Source_Sentences', 'text']\n",
    "models = [(\"mixedbread-ai/mxbai-embed-large-v1\", 512), \n",
    "         (\"avsolatorio/GIST-large-Embedding-v0\", None),\n",
    "         (\"jinaai/jina-embeddings-v2-base-en\", None),\n",
    "         (\"Labib11/MUG-B-1.6\", None)\n",
    "         ]"
   ],
   "metadata": {
    "execution": {
     "iopub.status.busy": "2024-06-14T16:29:32.180435Z",
     "iopub.execute_input": "2024-06-14T16:29:32.181014Z",
     "iopub.status.idle": "2024-06-14T16:29:32.192378Z",
     "shell.execute_reply.started": "2024-06-14T16:29:32.180984Z",
     "shell.execute_reply": "2024-06-14T16:29:32.191695Z"
    },
    "trusted": true
   },
   "execution_count": 16,
   "outputs": []
  },
  {
   "cell_type": "code",
   "source": [
    "# generate and store embeddings using the different models on each dataset\n",
    "for i in range(2):\n",
    "    antonyms = not i\n",
    "    words = load_words(data_paths[i], data_cols[i], antonyms=antonyms)\n",
    "    \n",
    "    for model, dim in models:\n",
    "        # print general_info\n",
    "        print(f\"Model: {model}\\nDataset: {data_paths[i]}\\nAntonyms: {antonyms}\\n\")\n",
    "        \n",
    "        # get the encodings\n",
    "        embed_map = generate_encodings(model, words, dim)\n",
    "        \n",
    "        # store them in appropirate json file\n",
    "        json_filename = model.split('/')[-1].split('-')[0] + '_embeddings_' + ('imdb' if i==0 else 'newsgroups')\n",
    "        with open(f'/kaggle/working/{json_filename}.json', 'w') as f:\n",
    "            json.dump(embed_map, f)"
   ],
   "metadata": {
    "execution": {
     "iopub.status.busy": "2024-06-14T16:36:24.350906Z",
     "iopub.execute_input": "2024-06-14T16:36:24.351682Z",
     "iopub.status.idle": "2024-06-14T16:41:41.804551Z",
     "shell.execute_reply.started": "2024-06-14T16:36:24.351646Z",
     "shell.execute_reply": "2024-06-14T16:41:41.803715Z"
    },
    "trusted": true
   },
   "execution_count": 21,
   "outputs": [
    {
     "name": "stdout",
     "text": "Model: mixedbread-ai/mxbai-embed-large-v1\nDataset: /kaggle/input/imdb-reviews/imdb_reviews.csv\nAntonyms: True\n\n",
     "output_type": "stream"
    },
    {
     "output_type": "display_data",
     "data": {
      "text/plain": "Batches:   0%|          | 0/315 [00:00<?, ?it/s]",
      "application/vnd.jupyter.widget-view+json": {
       "version_major": 2,
       "version_minor": 0,
       "model_id": "2fd46b2ee4334087b610932664b605ef"
      }
     },
     "metadata": {}
    },
    {
     "name": "stdout",
     "text": "Model: avsolatorio/GIST-large-Embedding-v0\nDataset: /kaggle/input/imdb-reviews/imdb_reviews.csv\nAntonyms: True\n\n",
     "output_type": "stream"
    },
    {
     "output_type": "display_data",
     "data": {
      "text/plain": "modules.json:   0%|          | 0.00/349 [00:00<?, ?B/s]",
      "application/vnd.jupyter.widget-view+json": {
       "version_major": 2,
       "version_minor": 0,
       "model_id": "468f06553b254544adb6e05effd93d33"
      }
     },
     "metadata": {}
    },
    {
     "output_type": "display_data",
     "data": {
      "text/plain": "config_sentence_transformers.json:   0%|          | 0.00/124 [00:00<?, ?B/s]",
      "application/vnd.jupyter.widget-view+json": {
       "version_major": 2,
       "version_minor": 0,
       "model_id": "ddc549eb73214e14b3cc12103d0ef848"
      }
     },
     "metadata": {}
    },
    {
     "output_type": "display_data",
     "data": {
      "text/plain": "README.md:   0%|          | 0.00/68.1k [00:00<?, ?B/s]",
      "application/vnd.jupyter.widget-view+json": {
       "version_major": 2,
       "version_minor": 0,
       "model_id": "f5f88cf522074072b387e488341ea53c"
      }
     },
     "metadata": {}
    },
    {
     "output_type": "display_data",
     "data": {
      "text/plain": "sentence_bert_config.json:   0%|          | 0.00/52.0 [00:00<?, ?B/s]",
      "application/vnd.jupyter.widget-view+json": {
       "version_major": 2,
       "version_minor": 0,
       "model_id": "82a9bef20f5b4b41a09af48121e4bc1e"
      }
     },
     "metadata": {}
    },
    {
     "output_type": "display_data",
     "data": {
      "text/plain": "config.json:   0%|          | 0.00/754 [00:00<?, ?B/s]",
      "application/vnd.jupyter.widget-view+json": {
       "version_major": 2,
       "version_minor": 0,
       "model_id": "c1499cdd193f482aac04dc1578f0cc62"
      }
     },
     "metadata": {}
    },
    {
     "output_type": "display_data",
     "data": {
      "text/plain": "model.safetensors:   0%|          | 0.00/1.34G [00:00<?, ?B/s]",
      "application/vnd.jupyter.widget-view+json": {
       "version_major": 2,
       "version_minor": 0,
       "model_id": "371016d29d7b403d88f4c9173b7d2ff3"
      }
     },
     "metadata": {}
    },
    {
     "output_type": "display_data",
     "data": {
      "text/plain": "tokenizer_config.json:   0%|          | 0.00/1.24k [00:00<?, ?B/s]",
      "application/vnd.jupyter.widget-view+json": {
       "version_major": 2,
       "version_minor": 0,
       "model_id": "4be5b63befca42a48fd3fefebb935bc3"
      }
     },
     "metadata": {}
    },
    {
     "output_type": "display_data",
     "data": {
      "text/plain": "vocab.txt:   0%|          | 0.00/232k [00:00<?, ?B/s]",
      "application/vnd.jupyter.widget-view+json": {
       "version_major": 2,
       "version_minor": 0,
       "model_id": "f312e71a678e446f82736f7671ae29a2"
      }
     },
     "metadata": {}
    },
    {
     "output_type": "display_data",
     "data": {
      "text/plain": "tokenizer.json:   0%|          | 0.00/711k [00:00<?, ?B/s]",
      "application/vnd.jupyter.widget-view+json": {
       "version_major": 2,
       "version_minor": 0,
       "model_id": "ebd048fc0b5c47f2aabafa198943321e"
      }
     },
     "metadata": {}
    },
    {
     "output_type": "display_data",
     "data": {
      "text/plain": "special_tokens_map.json:   0%|          | 0.00/695 [00:00<?, ?B/s]",
      "application/vnd.jupyter.widget-view+json": {
       "version_major": 2,
       "version_minor": 0,
       "model_id": "d7c7271faead48a7a2778ce1c2b1cbcb"
      }
     },
     "metadata": {}
    },
    {
     "output_type": "display_data",
     "data": {
      "text/plain": "1_Pooling/config.json:   0%|          | 0.00/191 [00:00<?, ?B/s]",
      "application/vnd.jupyter.widget-view+json": {
       "version_major": 2,
       "version_minor": 0,
       "model_id": "48d35921c87348028bd0fc7767b937b6"
      }
     },
     "metadata": {}
    },
    {
     "output_type": "display_data",
     "data": {
      "text/plain": "Batches:   0%|          | 0/315 [00:00<?, ?it/s]",
      "application/vnd.jupyter.widget-view+json": {
       "version_major": 2,
       "version_minor": 0,
       "model_id": "5cd5c0c84ce142e7b9faa15f43163867"
      }
     },
     "metadata": {}
    },
    {
     "name": "stdout",
     "text": "Model: jinaai/jina-embeddings-v2-base-en\nDataset: /kaggle/input/imdb-reviews/imdb_reviews.csv\nAntonyms: True\n\n",
     "output_type": "stream"
    },
    {
     "output_type": "display_data",
     "data": {
      "text/plain": "modules.json:   0%|          | 0.00/229 [00:00<?, ?B/s]",
      "application/vnd.jupyter.widget-view+json": {
       "version_major": 2,
       "version_minor": 0,
       "model_id": "5d07a27238dd40b6b6a2f10b851aab27"
      }
     },
     "metadata": {}
    },
    {
     "output_type": "display_data",
     "data": {
      "text/plain": "config_sentence_transformers.json:   0%|          | 0.00/117 [00:00<?, ?B/s]",
      "application/vnd.jupyter.widget-view+json": {
       "version_major": 2,
       "version_minor": 0,
       "model_id": "8993718a185b46ca98837e252fe90c3c"
      }
     },
     "metadata": {}
    },
    {
     "output_type": "display_data",
     "data": {
      "text/plain": "README.md:   0%|          | 0.00/71.5k [00:00<?, ?B/s]",
      "application/vnd.jupyter.widget-view+json": {
       "version_major": 2,
       "version_minor": 0,
       "model_id": "b1dabfe326e748d6a8f2f0e5c4aea364"
      }
     },
     "metadata": {}
    },
    {
     "output_type": "display_data",
     "data": {
      "text/plain": "sentence_bert_config.json:   0%|          | 0.00/99.0 [00:00<?, ?B/s]",
      "application/vnd.jupyter.widget-view+json": {
       "version_major": 2,
       "version_minor": 0,
       "model_id": "f44ad2ac983a4f23aae04e1f4167427b"
      }
     },
     "metadata": {}
    },
    {
     "output_type": "display_data",
     "data": {
      "text/plain": "config.json:   0%|          | 0.00/1.18k [00:00<?, ?B/s]",
      "application/vnd.jupyter.widget-view+json": {
       "version_major": 2,
       "version_minor": 0,
       "model_id": "10480ab012a94440b89900992cce94fb"
      }
     },
     "metadata": {}
    },
    {
     "output_type": "display_data",
     "data": {
      "text/plain": "configuration_bert.py:   0%|          | 0.00/8.24k [00:00<?, ?B/s]",
      "application/vnd.jupyter.widget-view+json": {
       "version_major": 2,
       "version_minor": 0,
       "model_id": "c12e693692434f06af7234314a0d9f64"
      }
     },
     "metadata": {}
    },
    {
     "name": "stderr",
     "text": "A new version of the following files was downloaded from https://huggingface.co/jinaai/jina-bert-implementation:\n- configuration_bert.py\n. Make sure to double-check they do not contain any added malicious code. To avoid downloading new versions of the code file, you can pin a revision.\n",
     "output_type": "stream"
    },
    {
     "output_type": "display_data",
     "data": {
      "text/plain": "modeling_bert.py:   0%|          | 0.00/97.7k [00:00<?, ?B/s]",
      "application/vnd.jupyter.widget-view+json": {
       "version_major": 2,
       "version_minor": 0,
       "model_id": "54a2f785f14a4af0bea78259893027eb"
      }
     },
     "metadata": {}
    },
    {
     "name": "stderr",
     "text": "A new version of the following files was downloaded from https://huggingface.co/jinaai/jina-bert-implementation:\n- modeling_bert.py\n. Make sure to double-check they do not contain any added malicious code. To avoid downloading new versions of the code file, you can pin a revision.\n",
     "output_type": "stream"
    },
    {
     "output_type": "display_data",
     "data": {
      "text/plain": "model.safetensors:   0%|          | 0.00/275M [00:00<?, ?B/s]",
      "application/vnd.jupyter.widget-view+json": {
       "version_major": 2,
       "version_minor": 0,
       "model_id": "a4029125e2b04624908a48066c530928"
      }
     },
     "metadata": {}
    },
    {
     "output_type": "display_data",
     "data": {
      "text/plain": "tokenizer_config.json:   0%|          | 0.00/373 [00:00<?, ?B/s]",
      "application/vnd.jupyter.widget-view+json": {
       "version_major": 2,
       "version_minor": 0,
       "model_id": "f423313357d0471bba591b851290dddc"
      }
     },
     "metadata": {}
    },
    {
     "output_type": "display_data",
     "data": {
      "text/plain": "vocab.txt:   0%|          | 0.00/232k [00:00<?, ?B/s]",
      "application/vnd.jupyter.widget-view+json": {
       "version_major": 2,
       "version_minor": 0,
       "model_id": "675a6f6166eb4123bc95006229c3ee3b"
      }
     },
     "metadata": {}
    },
    {
     "output_type": "display_data",
     "data": {
      "text/plain": "tokenizer.json:   0%|          | 0.00/712k [00:00<?, ?B/s]",
      "application/vnd.jupyter.widget-view+json": {
       "version_major": 2,
       "version_minor": 0,
       "model_id": "3c2ee4805a6e4c4ab2cd30a4e77198f2"
      }
     },
     "metadata": {}
    },
    {
     "output_type": "display_data",
     "data": {
      "text/plain": "special_tokens_map.json:   0%|          | 0.00/125 [00:00<?, ?B/s]",
      "application/vnd.jupyter.widget-view+json": {
       "version_major": 2,
       "version_minor": 0,
       "model_id": "55d401ed4c3245299027691102f54a4d"
      }
     },
     "metadata": {}
    },
    {
     "output_type": "display_data",
     "data": {
      "text/plain": "1_Pooling/config.json:   0%|          | 0.00/190 [00:00<?, ?B/s]",
      "application/vnd.jupyter.widget-view+json": {
       "version_major": 2,
       "version_minor": 0,
       "model_id": "64661d23327742909d3a34ace2733aa8"
      }
     },
     "metadata": {}
    },
    {
     "output_type": "display_data",
     "data": {
      "text/plain": "Batches:   0%|          | 0/315 [00:00<?, ?it/s]",
      "application/vnd.jupyter.widget-view+json": {
       "version_major": 2,
       "version_minor": 0,
       "model_id": "7ead91e80f124c2cafd8df0f3edb1ef3"
      }
     },
     "metadata": {}
    },
    {
     "name": "stdout",
     "text": "Model: Labib11/MUG-B-1.6\nDataset: /kaggle/input/imdb-reviews/imdb_reviews.csv\nAntonyms: True\n\n",
     "output_type": "stream"
    },
    {
     "output_type": "display_data",
     "data": {
      "text/plain": "modules.json:   0%|          | 0.00/349 [00:00<?, ?B/s]",
      "application/vnd.jupyter.widget-view+json": {
       "version_major": 2,
       "version_minor": 0,
       "model_id": "d683a62167a64b9baaa3bb6130515073"
      }
     },
     "metadata": {}
    },
    {
     "output_type": "display_data",
     "data": {
      "text/plain": "config_sentence_transformers.json:   0%|          | 0.00/171 [00:00<?, ?B/s]",
      "application/vnd.jupyter.widget-view+json": {
       "version_major": 2,
       "version_minor": 0,
       "model_id": "19a5e87bea8840d6bf200fe8c0923018"
      }
     },
     "metadata": {}
    },
    {
     "output_type": "display_data",
     "data": {
      "text/plain": "README.md:   0%|          | 0.00/126k [00:00<?, ?B/s]",
      "application/vnd.jupyter.widget-view+json": {
       "version_major": 2,
       "version_minor": 0,
       "model_id": "c628f6f3ae4549acb130dbb0439504fa"
      }
     },
     "metadata": {}
    },
    {
     "output_type": "display_data",
     "data": {
      "text/plain": "sentence_bert_config.json:   0%|          | 0.00/53.0 [00:00<?, ?B/s]",
      "application/vnd.jupyter.widget-view+json": {
       "version_major": 2,
       "version_minor": 0,
       "model_id": "5927f3e9ec63426ca13155488d54a7eb"
      }
     },
     "metadata": {}
    },
    {
     "output_type": "display_data",
     "data": {
      "text/plain": "config.json:   0%|          | 0.00/684 [00:00<?, ?B/s]",
      "application/vnd.jupyter.widget-view+json": {
       "version_major": 2,
       "version_minor": 0,
       "model_id": "a25ce48c6c834d3e9dd3d108c4a7ff77"
      }
     },
     "metadata": {}
    },
    {
     "output_type": "display_data",
     "data": {
      "text/plain": "model.safetensors:   0%|          | 0.00/1.34G [00:00<?, ?B/s]",
      "application/vnd.jupyter.widget-view+json": {
       "version_major": 2,
       "version_minor": 0,
       "model_id": "b2be79e6705648e897189be4daeae159"
      }
     },
     "metadata": {}
    },
    {
     "output_type": "display_data",
     "data": {
      "text/plain": "tokenizer_config.json:   0%|          | 0.00/1.24k [00:00<?, ?B/s]",
      "application/vnd.jupyter.widget-view+json": {
       "version_major": 2,
       "version_minor": 0,
       "model_id": "d6cb617229e74ce9b5898653df4c81ca"
      }
     },
     "metadata": {}
    },
    {
     "output_type": "display_data",
     "data": {
      "text/plain": "vocab.txt:   0%|          | 0.00/232k [00:00<?, ?B/s]",
      "application/vnd.jupyter.widget-view+json": {
       "version_major": 2,
       "version_minor": 0,
       "model_id": "c7a9b3b68e2d4f3fb9054b253ac95704"
      }
     },
     "metadata": {}
    },
    {
     "output_type": "display_data",
     "data": {
      "text/plain": "tokenizer.json:   0%|          | 0.00/711k [00:00<?, ?B/s]",
      "application/vnd.jupyter.widget-view+json": {
       "version_major": 2,
       "version_minor": 0,
       "model_id": "da42c50cd5d6435abe457bd1d1db8b95"
      }
     },
     "metadata": {}
    },
    {
     "output_type": "display_data",
     "data": {
      "text/plain": "special_tokens_map.json:   0%|          | 0.00/695 [00:00<?, ?B/s]",
      "application/vnd.jupyter.widget-view+json": {
       "version_major": 2,
       "version_minor": 0,
       "model_id": "d6b06f44e59a42f8a924ac8cd743ccc0"
      }
     },
     "metadata": {}
    },
    {
     "output_type": "display_data",
     "data": {
      "text/plain": "1_Pooling/config.json:   0%|          | 0.00/297 [00:00<?, ?B/s]",
      "application/vnd.jupyter.widget-view+json": {
       "version_major": 2,
       "version_minor": 0,
       "model_id": "26adea9943ef438ba38b42a44b3ff0ab"
      }
     },
     "metadata": {}
    },
    {
     "output_type": "display_data",
     "data": {
      "text/plain": "Batches:   0%|          | 0/315 [00:00<?, ?it/s]",
      "application/vnd.jupyter.widget-view+json": {
       "version_major": 2,
       "version_minor": 0,
       "model_id": "9998aaf36ba449beb3cebd4d95691314"
      }
     },
     "metadata": {}
    },
    {
     "name": "stdout",
     "text": "Model: mixedbread-ai/mxbai-embed-large-v1\nDataset: /kaggle/input/newsgroups/newsgroups.csv\nAntonyms: False\n\n",
     "output_type": "stream"
    },
    {
     "output_type": "display_data",
     "data": {
      "text/plain": "Batches:   0%|          | 0/239 [00:00<?, ?it/s]",
      "application/vnd.jupyter.widget-view+json": {
       "version_major": 2,
       "version_minor": 0,
       "model_id": "eaee4a39f6a44a1bb3fe1e9d207c038b"
      }
     },
     "metadata": {}
    },
    {
     "name": "stdout",
     "text": "Model: avsolatorio/GIST-large-Embedding-v0\nDataset: /kaggle/input/newsgroups/newsgroups.csv\nAntonyms: False\n\n",
     "output_type": "stream"
    },
    {
     "output_type": "display_data",
     "data": {
      "text/plain": "Batches:   0%|          | 0/239 [00:00<?, ?it/s]",
      "application/vnd.jupyter.widget-view+json": {
       "version_major": 2,
       "version_minor": 0,
       "model_id": "08eeb71f3ad84561a45ed7c706d58f3d"
      }
     },
     "metadata": {}
    },
    {
     "name": "stdout",
     "text": "Model: jinaai/jina-embeddings-v2-base-en\nDataset: /kaggle/input/newsgroups/newsgroups.csv\nAntonyms: False\n\n",
     "output_type": "stream"
    },
    {
     "output_type": "display_data",
     "data": {
      "text/plain": "Batches:   0%|          | 0/239 [00:00<?, ?it/s]",
      "application/vnd.jupyter.widget-view+json": {
       "version_major": 2,
       "version_minor": 0,
       "model_id": "6d04918fc244466196b48d2bb91d6be3"
      }
     },
     "metadata": {}
    },
    {
     "name": "stdout",
     "text": "Model: Labib11/MUG-B-1.6\nDataset: /kaggle/input/newsgroups/newsgroups.csv\nAntonyms: False\n\n",
     "output_type": "stream"
    },
    {
     "output_type": "display_data",
     "data": {
      "text/plain": "Batches:   0%|          | 0/239 [00:00<?, ?it/s]",
      "application/vnd.jupyter.widget-view+json": {
       "version_major": 2,
       "version_minor": 0,
       "model_id": "7442f5d67c5b41cdaa56aa082b8b9ad5"
      }
     },
     "metadata": {}
    }
   ]
  }
 ]
}
