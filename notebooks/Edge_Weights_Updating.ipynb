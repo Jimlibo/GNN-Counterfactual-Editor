{
 "cells": [
  {
   "cell_type": "markdown",
   "id": "c0659989-d61d-41fe-a003-ccd9fc1d32ed",
   "metadata": {},
   "source": [
    "# Analysis and Creation of updating formula for graph edges"
   ]
  },
  {
   "cell_type": "markdown",
   "id": "dfb0fe41-9973-482f-8835-62cc7acf6b14",
   "metadata": {},
   "source": [
    "## TODOs:\n",
    "* Implement the get_baseline_metric() function\n",
    "* Implement the get_counterfactual_metric() functions\n",
    "* Add more model-related metrics (?)\n",
    "* Add more model-agnostic metrics (?)"
   ]
  },
  {
   "cell_type": "markdown",
   "id": "fa1dc1c0-7436-4858-90fb-ac46e2a99c25",
   "metadata": {},
   "source": [
    "## Install Required Packages"
   ]
  },
  {
   "cell_type": "code",
   "execution_count": null,
   "id": "cbdf4f91-ecbb-4c70-beaf-333adf4c1c46",
   "metadata": {},
   "outputs": [],
   "source": [
    "!pip install numpy\n",
    "!pip install pandas\n",
    "!pip install networkx\n",
    "!pip install scikit-learn\n",
    "!pip install matplotlib"
   ]
  },
  {
   "cell_type": "code",
   "execution_count": null,
   "id": "bf4ed90d-2860-44e9-a6a9-7b250119a8c7",
   "metadata": {},
   "outputs": [],
   "source": [
    "!pip install polyjuice_nlp\n",
    "!pip install torch\n",
    "!python -m spacy download en_core_web"
   ]
  },
  {
   "cell_type": "markdown",
   "id": "a207c67a-41c8-4b59-8e99-13af2cc75c7e",
   "metadata": {},
   "source": [
    "## Imports"
   ]
  },
  {
   "cell_type": "code",
   "execution_count": 13,
   "id": "a592d877-5b2e-4a19-abcf-c040232dfd4e",
   "metadata": {},
   "outputs": [],
   "source": [
    "# general imports\n",
    "import numpy as np\n",
    "import pandas as pd\n",
    "import networkx as nx\n",
    "\n",
    "# Metric-related imports\n",
    "import torch\n",
    "from transformers import OpenAIGPTTokenizer, OpenAIGPTLMHeadModel\n",
    "from transformers import GPT2Tokenizer, GPT2LMHeadModel\n",
    "from pylev import levenshtein as lev_dist"
   ]
  },
  {
   "cell_type": "code",
   "execution_count": 1,
   "id": "c20e5d0b-61b7-47ae-8f99-1e98030f0c6a",
   "metadata": {},
   "outputs": [
    {
     "name": "stderr",
     "output_type": "stream",
     "text": [
      "C:\\Users\\jimli\\anaconda3\\envs\\nlp_venv\\lib\\site-packages\\tqdm\\auto.py:21: TqdmWarning: IProgress not found. Please update jupyter and ipywidgets. See https://ipywidgets.readthedocs.io/en/stable/user_install.html\n",
      "  from .autonotebook import tqdm as notebook_tqdm\n"
     ]
    }
   ],
   "source": [
    "%run GPT2_functions.ipynb"
   ]
  },
  {
   "cell_type": "markdown",
   "id": "f961da7b-c435-40bb-85c2-ff7c137a7b7a",
   "metadata": {},
   "source": [
    "## Creating updating formula"
   ]
  },
  {
   "cell_type": "code",
   "execution_count": 2,
   "id": "b310acda-a6d3-48b3-842a-189bc0b58946",
   "metadata": {},
   "outputs": [],
   "source": [
    "def update_edges(edges, substitutions, lr, baseline_metric_value, current_metric_value):\n",
    "    updated_edges = list()\n",
    "    for (u, v, w) in edges:\n",
    "        try:\n",
    "            # get substitution occurences for each edge\n",
    "            edge_subs = substitutions[(u,v)] \n",
    "            # updating formula\n",
    "            new_w = w + lr * (baseline_metric_value - current_metric_value) / edge_subs\n",
    "            # add the updated edge to the list\n",
    "            updated_edges.append((u, v, new_w))\n",
    "        except KeyError:\n",
    "            print(\"Something went wrong during updating of edges' weights\")\n",
    "    \n",
    "    return updated_edges"
   ]
  },
  {
   "cell_type": "markdown",
   "id": "be6b51d4-2499-4595-9d91-fafd71123973",
   "metadata": {},
   "source": [
    "## Testing updating formula"
   ]
  },
  {
   "cell_type": "code",
   "execution_count": 5,
   "id": "5561302f-89f6-4b58-bf51-e4724a805f19",
   "metadata": {},
   "outputs": [
    {
     "data": {
      "image/png": "[encoded data removed]",
      "text/plain": [
       "<Figure size 640x480 with 1 Axes>"
      ]
     },
     "metadata": {},
     "output_type": "display_data"
    }
   ],
   "source": [
    "testing_edges = [(0, 1, 2), (1, 2, 2), (2, 3, 2), (3, 0, 2)]\n",
    "\n",
    "g = nx.Graph()\n",
    "g.add_weighted_edges_from(testing_edges)\n",
    "nx.draw(g, with_labels=True)"
   ]
  },
  {
   "cell_type": "code",
   "execution_count": 6,
   "id": "190644c8-2fef-46f0-bda2-6df1cc679ff4",
   "metadata": {},
   "outputs": [
    {
     "name": "stdout",
     "output_type": "stream",
     "text": [
      "[(0, 1, 2.1), (1, 2, 2.1), (2, 3, 2.1), (3, 0, 2.1)]\n",
      "Assertion test all passed!\n"
     ]
    }
   ],
   "source": [
    "subs = {(u, v): 1 for (u, v, d) in testing_edges}\n",
    "new_edges = update_edges(testing_edges, subs, 0.1, 3.0, 2.0)\n",
    "print(new_edges)\n",
    "\n",
    "d_w =  0.1 * (3 - 2) / 1\n",
    "\n",
    "for i in range(len(new_edges)):\n",
    "    assert round(new_edges[i][2] - testing_edges[i][2], 1) == d_w\n",
    "\n",
    "print(\"Assertion test all passed!\")"
   ]
  },
  {
   "cell_type": "markdown",
   "id": "dd687acd-4f4f-4bff-acab-ce0b5b9db89a",
   "metadata": {},
   "source": [
    "## Creating the complete training process"
   ]
  },
  {
   "cell_type": "code",
   "execution_count": 28,
   "id": "8e54ccdc-b68b-481f-b972-cd9d5b73ea4a",
   "metadata": {},
   "outputs": [],
   "source": [
    "def generate_model_agnostic_metrics(data, counter_data):\n",
    "    \"\"\"\n",
    "    A function that takes as input the original and the counter data and returns a dictionary with \n",
    "    model-agnostic metrics such as closeness and fluency.\n",
    "\n",
    "    :param data: dataframe containing one column with the original data\n",
    "    :param counter_data: dataframe containing one column with the counter data\n",
    "    :returns: dictionary containing model-agnostic metrics\n",
    "    \"\"\"\n",
    "    # extract sentences and counter-sentences from the data and check that they are of the same length\n",
    "    sentences = [elem[0] for elem in data.values.tolist()]\n",
    "    counter_sentences= [elem[0] for elem in counter_data.values.tolist()]\n",
    "    assert len(sentences) == len(counter_sentences)\n",
    "\n",
    "    # compute average levenshtein distance as a measurement of closeness\n",
    "    avg_lev = sum(list(map(lambda x: lev_dist(x[0], x[1]), zip(sentences, counter_sentences)))) / len(sentences)\n",
    "\n",
    "    # compute average fluency\n",
    "    model, tokenizer = model_init()\n",
    "    avg_fluency = sum(list(map(lambda x: sent_scoring(model, tokenizer, x)[0], counter_sentences))) / len(sentences)\n",
    "    # avg_fluency = sum(\n",
    "    #     list(map(lambda x: abs(sent_scoring(model, tokenizer, x[0])[0] - sent_scoring(model, tokenizer, x[1])[0]), zip(sentences, counter_sentences)))\n",
    "    # ) / len(sentences)\n",
    "    \n",
    "    # create metrics dictionary\n",
    "    metrics = {\n",
    "        'levenshtein': avg_lev,\n",
    "        'fluency': avg_fluency\n",
    "    }\n",
    "\n",
    "    return metrics"
   ]
  },
  {
   "cell_type": "code",
   "execution_count": 36,
   "id": "702e09a8-361a-4d2b-8e4b-11781025b727",
   "metadata": {},
   "outputs": [],
   "source": [
    "def generate_model_related_metrics(original_p, counter_p):\n",
    "    \"\"\"\n",
    "    A function that takes as input the original predictions and the new ones, and returns a dictionary with \n",
    "    model-related metrics such as flip-rate.\n",
    "\n",
    "    :param original_p: list containing the predictions for the original data\n",
    "    :param counter_p: dataframe containing the predictions for the counter data\n",
    "    :returns: dictionary containing model-related metrics\n",
    "    \"\"\"\n",
    "\n",
    "    # check that predictions and counter_predictions are of the same length\n",
    "    assert len(original_p) == len(counter_p)\n",
    "    \n",
    "    # compute flip_rate\n",
    "    flip_rate_percent = sum(x[0] != x[1] for x in zip(original_p, counter_p)) / len(original_p)\n",
    "\n",
    "    # create metrics dictionary\n",
    "    metrics = {\n",
    "        'flip-rate': flip_rate_percent\n",
    "    }\n",
    "\n",
    "    return metrics"
   ]
  },
  {
   "cell_type": "code",
   "execution_count": null,
   "id": "5042ead5-be99-476e-8cca-c967977bad15",
   "metadata": {},
   "outputs": [],
   "source": [
    "def get_baseline_metric():\n",
    "    # TODO: compute baseline metric\n",
    "    pass"
   ]
  },
  {
   "cell_type": "code",
   "execution_count": null,
   "id": "a5c6b7e0-426c-470e-a7ed-9b1d04853969",
   "metadata": {},
   "outputs": [],
   "source": [
    "def get_counterfactual_metric(metrics):\n",
    "    # TODO: compute the final counterfactual metric as a combination of the metrics given as a dictionary\n",
    "    pass"
   ]
  },
  {
   "cell_type": "code",
   "execution_count": null,
   "id": "723864c4-0a26-4c30-875c-af9cf90130e1",
   "metadata": {},
   "outputs": [],
   "source": [
    "def train_graph(g, data, preprocessor, model, editor, learning_rate=0.01, th=0.005, max_iterations=100, model_required=False):\n",
    "    \"\"\"\n",
    "    A function that represents the training process for the graph edges. It gets predictions for the original data\n",
    "    then uses a counterfactual editor to generate counter data and get predictions for them. To get the current_metric\n",
    "    it compares the two predictions and based on those updates the weights of the selected edges.\n",
    "    \n",
    "    :param g: the graph used in Maria's framework\n",
    "    :param data: a dataframe containing the textual examples we will use to train the graph\n",
    "    :param preprocessor: a custom class that implements the necessary preprocessing of the data\n",
    "    :param model: a pretrained model on the dataset\n",
    "    :param editor: the counterfactual editor used to generate counterfactual data\n",
    "    :param model_required: boolean value for whether or not to compute model-related metrics or\n",
    "    \"\"\"\n",
    "\n",
    "    # generate counter data and compute model_agnostic metrics\n",
    "    counter_data, selected_edges, substitutions= editor.generate_counterfactuals(g, data)\n",
    "    baseline_metric = get_baseline_metric()\n",
    "    current_metrics_dict = generate_model_agnostic_metrics(data, counter_data)\n",
    "\n",
    "    # if needed, compute model-related metrics as well\n",
    "    if model_required:\n",
    "        # first process the original data and get model predictions\n",
    "        processed_data = preprocessor.process(data)\n",
    "        original_preds = model.predict(processed_data)\n",
    "    \n",
    "        # do the same but for the counterfactual-generated data\n",
    "        processed_counter_data = preprocessor.process(counter_data)\n",
    "        counter_preds = model.predict(processed_counter_data)\n",
    "\n",
    "        # add model-related metrics to the current_metrics dictionary\n",
    "        current_metrics_dict.update(generate_model_related_metrics(original_preds, counter_preds))\n",
    "\n",
    "    # compute the final metric as a combination of the previously computed metrics\n",
    "    current_metric = get_counterfactual_metric(current_metrics_dict)\n",
    "    \n",
    "    iterations = 0\n",
    "    # if metric difference is larger than a threshold and iterations are not at high bound\n",
    "    while abs(current_metric - baseline_metric) >= th and iterations < max_iterations:\n",
    "        # remove old values of edges from the graph\n",
    "        g.remove_edges_from(edges)\n",
    "        updated_edges = update_edges(edges, substitutions, learning_rate, baseline_metric, current_metric)\n",
    "        # add the edges with the new edges back into the graph\n",
    "        g.add_weighted_edges_from(updated_edges)\n",
    "        \n",
    "        # change the baseline_metric value\n",
    "        baseline_metric = max(baseline_metric, current_metric)\n",
    "\n",
    "        # produce new counter_data and compute current_metric valule\n",
    "        counter_data, selected_edges, substitutions= editor.generate_counterfactuals(g, data)\n",
    "        current_metrics_dict = generate_model_agnostic_metrics(data, counter_data)\n",
    "\n",
    "        # if needed, compute model-related metrics as well\n",
    "        if model_required:\n",
    "            processed_counter_data = preprocessor.process(counter_data)\n",
    "            counter_preds = model.predict(processed_counter_data)\n",
    "    \n",
    "            # add model-related metrics to the current_metrics dictionary\n",
    "            current_metrics_dict.update(generate_model_related_metrics(original_preds, counter_preds))  \n",
    "\n",
    "        # compute the final metric as a combination of the previously computed metrics\n",
    "        current_metric = get_counterfactual_metric(current_metrics_dict)\n",
    "        \n",
    "        iterations += 1\n",
    "\n",
    "    return g\n",
    "    "
   ]
  }
 ],
 "metadata": {
  "kernelspec": {
   "display_name": "nlp_venv",
   "language": "python",
   "name": "nlp_venv"
  },
  "language_info": {
   "codemirror_mode": {
    "name": "ipython",
    "version": 3
   },
   "file_extension": ".py",
   "mimetype": "text/x-python",
   "name": "python",
   "nbconvert_exporter": "python",
   "pygments_lexer": "ipython3",
   "version": "3.9.18"
  }
 },
 "nbformat": 4,
 "nbformat_minor": 5
}
