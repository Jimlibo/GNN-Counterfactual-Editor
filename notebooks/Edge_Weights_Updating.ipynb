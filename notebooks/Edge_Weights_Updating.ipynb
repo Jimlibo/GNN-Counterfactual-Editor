{
 "cells": [
  {
   "cell_type": "markdown",
   "id": "c0659989-d61d-41fe-a003-ccd9fc1d32ed",
   "metadata": {},
   "source": [
    "# Analysis and Creation of updating formula for graph edges"
   ]
  },
  {
   "cell_type": "markdown",
   "id": "fa1dc1c0-7436-4858-90fb-ac46e2a99c25",
   "metadata": {},
   "source": [
    "## Install Required Packages"
   ]
  },
  {
   "cell_type": "code",
   "execution_count": null,
   "id": "cbdf4f91-ecbb-4c70-beaf-333adf4c1c46",
   "metadata": {},
   "outputs": [],
   "source": [
    "!pip install numpy\n",
    "!pip install pandas\n",
    "!pip install networkx\n",
    "!pip install scikit-learn"
   ]
  },
  {
   "cell_type": "markdown",
   "id": "a207c67a-41c8-4b59-8e99-13af2cc75c7e",
   "metadata": {},
   "source": [
    "## Imports"
   ]
  },
  {
   "cell_type": "code",
   "execution_count": 2,
   "id": "a592d877-5b2e-4a19-abcf-c040232dfd4e",
   "metadata": {},
   "outputs": [],
   "source": [
    "import numpy as np\n",
    "import pandas as pd\n",
    "import networkx as nx"
   ]
  },
  {
   "cell_type": "markdown",
   "id": "f961da7b-c435-40bb-85c2-ff7c137a7b7a",
   "metadata": {},
   "source": [
    "## Creating updating formula"
   ]
  },
  {
   "cell_type": "code",
   "execution_count": 3,
   "id": "b310acda-a6d3-48b3-842a-189bc0b58946",
   "metadata": {},
   "outputs": [],
   "source": [
    "def update_edges(edges, substitutions, lr, baseline_metric_value, current_metric_value):\n",
    "    updated_edges = list()\n",
    "    for (u, v, w) in edges:\n",
    "        try:\n",
    "            # get substitution occurences for each edge\n",
    "            edge_subs = substitutions[(u,v)] \n",
    "            # updating formula\n",
    "            new_w = w + lr * (baseline_metric_value - current_metric_value) / edge_subs\n",
    "            # add the updated edge to the list\n",
    "            updated_edges.append((u, v, new_w))\n",
    "        except KeyError:\n",
    "            print(\"Something went wrong during updating of edges' weights\")\n",
    "    \n",
    "    return updated_edges"
   ]
  },
  {
   "cell_type": "markdown",
   "id": "be6b51d4-2499-4595-9d91-fafd71123973",
   "metadata": {},
   "source": [
    "## Testing updating formula"
   ]
  },
  {
   "cell_type": "code",
   "execution_count": 13,
   "id": "5561302f-89f6-4b58-bf51-e4724a805f19",
   "metadata": {},
   "outputs": [
    {
     "data": {
      "image/png": "[encoded data removed]",
      "text/plain": [
       "<Figure size 432x288 with 1 Axes>"
      ]
     },
     "metadata": {},
     "output_type": "display_data"
    }
   ],
   "source": [
    "testing_edges = [(0, 1, 2), (1, 2, 2), (2, 3, 2), (3, 0, 2)]\n",
    "\n",
    "g = nx.Graph()\n",
    "g.add_weighted_edges_from(testing_edges)\n",
    "nx.draw(g, with_labels=True)"
   ]
  },
  {
   "cell_type": "code",
   "execution_count": 19,
   "id": "190644c8-2fef-46f0-bda2-6df1cc679ff4",
   "metadata": {},
   "outputs": [
    {
     "name": "stdout",
     "output_type": "stream",
     "text": [
      "[(0, 1, 2.1), (1, 2, 2.1), (2, 3, 2.1), (3, 0, 2.1)]\n",
      "Assertion test all passed!\n"
     ]
    }
   ],
   "source": [
    "subs = {(u, v): 1 for (u, v, d) in testing_edges}\n",
    "new_edges = update_edges(testing_edges, subs, 0.1, 3.0, 2.0)\n",
    "print(new_edges)\n",
    "\n",
    "d_w =  0.1 * (3 - 2) / 1\n",
    "\n",
    "for i in range(len(new_edges)):\n",
    "    assert round(new_edges[i][2] - testing_edges[i][2], 1) == d_w\n",
    "\n",
    "print(\"Assertion test all passed!\")"
   ]
  },
  {
   "cell_type": "markdown",
   "id": "dd687acd-4f4f-4bff-acab-ce0b5b9db89a",
   "metadata": {},
   "source": [
    "## Creating the complete training process"
   ]
  },
  {
   "cell_type": "code",
   "execution_count": null,
   "id": "702e09a8-361a-4d2b-8e4b-11781025b727",
   "metadata": {},
   "outputs": [],
   "source": [
    "def compare_preds(original_p, counter_p):\n",
    "    pass"
   ]
  },
  {
   "cell_type": "code",
   "execution_count": null,
   "id": "5042ead5-be99-476e-8cca-c967977bad15",
   "metadata": {},
   "outputs": [],
   "source": [
    "def get_baseline_metric():\n",
    "    pass"
   ]
  },
  {
   "cell_type": "code",
   "execution_count": null,
   "id": "723864c4-0a26-4c30-875c-af9cf90130e1",
   "metadata": {},
   "outputs": [],
   "source": [
    "def train_graph(g, data, preprocessor, model, editor, learning_rate=0.01, th=0.005, max_iterations=100):\n",
    "    \"\"\"\n",
    "    A function that represents the training process for the graph edges. It gets predictions for the original data\n",
    "    then uses a counterfactual editor to generate counter data and get predictions for them. To get the current_metric\n",
    "    it compares the two predictions and based on those updates the weights of the selected edges.\n",
    "    \n",
    "    :param g: the graph used in Maria's framework\n",
    "    :param data: a dataframe containing the textual examples we will use to train the graph\n",
    "    :param preprocessor: a custom class that implements the necessary preprocessing of the data\n",
    "    :param model: a pretrained model on the dataset\n",
    "    :param editor: the counterfactual editor used to generate counterfactual data\n",
    "    \"\"\"\n",
    "    \n",
    "    # first process the original data and get model predictions\n",
    "    processed_data = preprocessor.process(data)\n",
    "    original_preds = model.predict(processed_data)\n",
    "    \n",
    "    # do the same but for the counterfactual-generated data\n",
    "    counter_data, selected_edges, substitutions= editor.generate_counterfactuals(g, data)\n",
    "    processed_counter_data = preprocessor.process(counter_data)\n",
    "    counter_preds = model.predict(processed_counter_data)\n",
    "    \n",
    "    # compare the two predictions to get desired metric\n",
    "    current_metric = compare_preds(original_preds, counter_preds)\n",
    "    baseline_metric = get_baseline_metric()\n",
    "    \n",
    "    iterations = 0\n",
    "    # if metric difference is larger than a threshold and iterations are not at high bound\n",
    "    while abs(current_metric - baseline_metric) >= th and iterations < max_iterations:\n",
    "        # remove old values of edges from the graph\n",
    "        g.remove_edges_from(edges)\n",
    "        updated_edges = update_edges(edges, substitutions, learning_rate, baseline_metric, current_metric)\n",
    "        # add the edges with the new edges back into the graph\n",
    "        g.add_weighted_edges_from(updated_edges)\n",
    "        \n",
    "        # change the baseline_metric value and update iteration count\n",
    "        baseline_metric = max(baseline_metric, current_metric)\n",
    "        iterations += 1\n",
    "\n",
    "    return g\n",
    "    "
   ]
  }
 ],
 "metadata": {
  "kernelspec": {
   "display_name": "Python 3 (ipykernel)",
   "language": "python",
   "name": "python3"
  },
  "language_info": {
   "codemirror_mode": {
    "name": "ipython",
    "version": 3
   },
   "file_extension": ".py",
   "mimetype": "text/x-python",
   "name": "python",
   "nbconvert_exporter": "python",
   "pygments_lexer": "ipython3",
   "version": "3.9.12"
  }
 },
 "nbformat": 4,
 "nbformat_minor": 5
}
