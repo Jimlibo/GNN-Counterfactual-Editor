{
 "cells": [
  {
   "cell_type": "markdown",
   "id": "60cade1f-e960-47e3-9b37-37fe52b1bd4c",
   "metadata": {},
   "source": [
    "# Polyjuice\n",
    "<b>Date:</b> October 5, 2023\\\n",
    "<b>Author:</b> Dimitris Lymperopoulos\\\n",
    "<b>Description:</b> A notebook for experimentation with Polyjuice framework\n"
   ]
  },
  {
   "cell_type": "markdown",
   "id": "c581cc28-25f3-4b9b-a0f8-ddc50e149bff",
   "metadata": {},
   "source": [
    "## Package Installation\n",
    "Run the cell below to download and install the necessary python packages for Polyjuice."
   ]
  },
  {
   "cell_type": "code",
   "execution_count": null,
   "id": "199f1ce2-9590-4d6c-844e-f81aa5bf583a",
   "metadata": {},
   "outputs": [],
   "source": [
    "!pip install torch\n",
    "!python -m spacy download en_core_web_sm"
   ]
  },
  {
   "cell_type": "markdown",
   "id": "ba1154f7-93ae-4e9e-b098-5811b04e5036",
   "metadata": {},
   "source": [
    "## Imports"
   ]
  },
  {
   "cell_type": "code",
   "execution_count": 1,
   "id": "86657f0e-d777-47f1-adb3-ce3c2ff090bd",
   "metadata": {},
   "outputs": [
    {
     "name": "stderr",
     "output_type": "stream",
     "text": [
      "C:\\Users\\jimli\\anaconda3\\envs\\nlp_venv\\lib\\site-packages\\tqdm\\auto.py:21: TqdmWarning: IProgress not found. Please update jupyter and ipywidgets. See https://ipywidgets.readthedocs.io/en/stable/user_install.html\n",
      "  from .autonotebook import tqdm as notebook_tqdm\n"
     ]
    }
   ],
   "source": [
    "import numpy as np\n",
    "import pandas as pd\n",
    "from polyjuice import Polyjuice"
   ]
  },
  {
   "cell_type": "markdown",
   "id": "98a86597-f3c3-48ca-8f3d-2cd3f9eb0b9f",
   "metadata": {},
   "source": [
    "## Experiments"
   ]
  },
  {
   "cell_type": "code",
   "execution_count": 2,
   "id": "65222333-82eb-43f5-a705-2811daa5d526",
   "metadata": {},
   "outputs": [],
   "source": [
    "# initial parameters and variables\n",
    "pj = Polyjuice(model_path=\"uw-hai/polyjuice\", is_cuda=True)\n",
    "text = \"A dog is embraced by the woman.\""
   ]
  },
  {
   "cell_type": "code",
   "execution_count": 9,
   "id": "bddd3900-d060-46ec-88f9-a3612fad5119",
   "metadata": {},
   "outputs": [
    {
     "name": "stdout",
     "output_type": "stream",
     "text": [
      "A dog is being cradled by a person.\n",
      "A dog is embraced by no woman.\n",
      "No dog is outside in the grass.\n"
     ]
    }
   ],
   "source": [
    "# Experiment 1 - Simplest use of Polyjuice with default parameters\n",
    "perturbations = pj.perturb(text)\n",
    "print(\"\\n\".join(perturbations))"
   ]
  },
  {
   "cell_type": "code",
   "execution_count": 16,
   "id": "4b2eef1d-3a4e-4211-bf50-42c7e6cd3ae2",
   "metadata": {},
   "outputs": [
    {
     "name": "stdout",
     "output_type": "stream",
     "text": [
      "A dog is n't embraced by the woman.\n",
      "A dog is not being held by the woman.\n",
      "A dog is not by the woman.\n",
      "A dog is not embraced by the woman.\n",
      "A dog is not being attacked by the woman.\n"
     ]
    }
   ],
   "source": [
    "# Experiment 2 - Customized perturbations\n",
    "perturbations = pj.perturb(\n",
    "    orig_sent=text,\n",
    "    # can specify where to put the blank. Otherwise, it's automatically selected.\n",
    "    # Can be a list or a single sentence.\n",
    "    blanked_sent=None,\n",
    "    # can also specify the ctrl code (a list or a single code.)\n",
    "    # The code should be from 'resemantic', 'restructure', 'negation', 'insert', 'lexical', 'shuffle', 'quantifier', 'delete'.\n",
    "    ctrl_code='negation',\n",
    "    # Customize perplexity score. \n",
    "    perplex_thred=None,\n",
    "    # number of perturbations to return\n",
    "    num_perturbations=5,\n",
    "    # the function also takes in additional arguments for huggingface generators.\n",
    "    num_beams=6\n",
    ")\n",
    "print(\"\\n\".join(perturbations))"
   ]
  },
  {
   "cell_type": "markdown",
   "id": "33992ad8-97d3-4f70-89cd-473cca07300c",
   "metadata": {},
   "source": [
    "## IMDB Reviews Counterfactual Generation"
   ]
  },
  {
   "cell_type": "code",
   "execution_count": 2,
   "id": "c348db51-b4c1-4d44-bc0f-63d5486ca0e6",
   "metadata": {},
   "outputs": [
    {
     "data": {
      "text/html": [
       "<div>\n",
       "<style scoped>\n",
       "    .dataframe tbody tr th:only-of-type {\n",
       "        vertical-align: middle;\n",
       "    }\n",
       "\n",
       "    .dataframe tbody tr th {\n",
       "        vertical-align: top;\n",
       "    }\n",
       "\n",
       "    .dataframe thead th {\n",
       "        text-align: right;\n",
       "    }\n",
       "</style>\n",
       "<table border=\"1\" class=\"dataframe\">\n",
       "  <thead>\n",
       "    <tr style=\"text-align: right;\">\n",
       "      <th></th>\n",
       "      <th>Source_Sentences</th>\n",
       "      <th>sentiment</th>\n",
       "    </tr>\n",
       "  </thead>\n",
       "  <tbody>\n",
       "    <tr>\n",
       "      <th>0</th>\n",
       "      <td>One of the other reviewers has mentioned that ...</td>\n",
       "      <td>positive</td>\n",
       "    </tr>\n",
       "    <tr>\n",
       "      <th>1</th>\n",
       "      <td>A wonderful little production. &lt;br /&gt;&lt;br /&gt;The...</td>\n",
       "      <td>positive</td>\n",
       "    </tr>\n",
       "    <tr>\n",
       "      <th>2</th>\n",
       "      <td>I thought this was a wonderful way to spend ti...</td>\n",
       "      <td>positive</td>\n",
       "    </tr>\n",
       "    <tr>\n",
       "      <th>3</th>\n",
       "      <td>Basically there's a family where a little boy ...</td>\n",
       "      <td>negative</td>\n",
       "    </tr>\n",
       "    <tr>\n",
       "      <th>4</th>\n",
       "      <td>Petter Mattei's \"Love in the Time of Money\" is...</td>\n",
       "      <td>positive</td>\n",
       "    </tr>\n",
       "  </tbody>\n",
       "</table>\n",
       "</div>"
      ],
      "text/plain": [
       "                                    Source_Sentences sentiment\n",
       "0  One of the other reviewers has mentioned that ...  positive\n",
       "1  A wonderful little production. <br /><br />The...  positive\n",
       "2  I thought this was a wonderful way to spend ti...  positive\n",
       "3  Basically there's a family where a little boy ...  negative\n",
       "4  Petter Mattei's \"Love in the Time of Money\" is...  positive"
      ]
     },
     "execution_count": 2,
     "metadata": {},
     "output_type": "execute_result"
    }
   ],
   "source": [
    "df = pd.read_csv(\"../Data/IMDB_reviews.csv\")\n",
    "df.head()"
   ]
  },
  {
   "cell_type": "code",
   "execution_count": 4,
   "id": "fbe99bff-470f-46c5-bc57-cb2ef9b36b6a",
   "metadata": {},
   "outputs": [
    {
     "data": {
      "text/plain": [
       "(50000, 2)"
      ]
     },
     "execution_count": 4,
     "metadata": {},
     "output_type": "execute_result"
    }
   ],
   "source": [
    "df.shape"
   ]
  },
  {
   "cell_type": "code",
   "execution_count": 7,
   "id": "a4fc783c-a0b6-47af-a1cd-db0f810328f9",
   "metadata": {},
   "outputs": [],
   "source": [
    "def create_adversarial_sent(sentence):\n",
    "    \"\"\"\n",
    "    A function that takes as input a sentence and uses Polyjuice to generate an adversarial sentence.\n",
    "    If such sentence cannot be created, returns the original sentence.\n",
    "\n",
    "    :param sentence: string representing the original sentence\n",
    "    :returns: string representing either the adversarial or the original sentence\n",
    "    \"\"\"\n",
    "    \n",
    "    try:\n",
    "        adversarial_sentences = pj.perturb(orig_sent=sentence, ctrl_code='negation')\n",
    "    except:\n",
    "        return sentence\n",
    "        \n",
    "    return adversarial_sentences[0] if len(adversarial_sentences) > 0 else sentence"
   ]
  },
  {
   "cell_type": "code",
   "execution_count": null,
   "id": "253af5f6-cb79-4c95-ac89-20ff08870fbb",
   "metadata": {},
   "outputs": [
    {
     "name": "stderr",
     "output_type": "stream",
     "text": [
      "C:\\Users\\jimli\\anaconda3\\envs\\nlp_venv\\lib\\site-packages\\transformers\\generation\\utils.py:1268: UserWarning: Input length of input_ids is 1058, but `max_length` is set to 1000. This can lead to unexpected behavior. You should consider increasing `max_new_tokens`.\n",
      "  warnings.warn(\n",
      "C:\\Users\\jimli\\anaconda3\\envs\\nlp_venv\\lib\\site-packages\\transformers\\generation\\utils.py:1268: UserWarning: Input length of input_ids is 1415, but `max_length` is set to 1000. This can lead to unexpected behavior. You should consider increasing `max_new_tokens`.\n",
      "  warnings.warn(\n",
      "C:\\Users\\jimli\\anaconda3\\envs\\nlp_venv\\lib\\site-packages\\transformers\\generation\\utils.py:1268: UserWarning: Input length of input_ids is 1629, but `max_length` is set to 1000. This can lead to unexpected behavior. You should consider increasing `max_new_tokens`.\n",
      "  warnings.warn(\n",
      "C:\\Users\\jimli\\anaconda3\\envs\\nlp_venv\\lib\\site-packages\\transformers\\generation\\utils.py:1268: UserWarning: Input length of input_ids is 1164, but `max_length` is set to 1000. This can lead to unexpected behavior. You should consider increasing `max_new_tokens`.\n",
      "  warnings.warn(\n",
      "C:\\Users\\jimli\\anaconda3\\envs\\nlp_venv\\lib\\site-packages\\transformers\\generation\\utils.py:1268: UserWarning: Input length of input_ids is 1791, but `max_length` is set to 1000. This can lead to unexpected behavior. You should consider increasing `max_new_tokens`.\n",
      "  warnings.warn(\n",
      "C:\\Users\\jimli\\anaconda3\\envs\\nlp_venv\\lib\\site-packages\\transformers\\generation\\utils.py:1268: UserWarning: Input length of input_ids is 1823, but `max_length` is set to 1000. This can lead to unexpected behavior. You should consider increasing `max_new_tokens`.\n",
      "  warnings.warn(\n",
      "C:\\Users\\jimli\\anaconda3\\envs\\nlp_venv\\lib\\site-packages\\transformers\\generation\\utils.py:1268: UserWarning: Input length of input_ids is 1079, but `max_length` is set to 1000. This can lead to unexpected behavior. You should consider increasing `max_new_tokens`.\n",
      "  warnings.warn(\n",
      "C:\\Users\\jimli\\anaconda3\\envs\\nlp_venv\\lib\\site-packages\\transformers\\generation\\utils.py:1268: UserWarning: Input length of input_ids is 1505, but `max_length` is set to 1000. This can lead to unexpected behavior. You should consider increasing `max_new_tokens`.\n",
      "  warnings.warn(\n",
      "C:\\Users\\jimli\\anaconda3\\envs\\nlp_venv\\lib\\site-packages\\transformers\\generation\\utils.py:1268: UserWarning: Input length of input_ids is 1258, but `max_length` is set to 1000. This can lead to unexpected behavior. You should consider increasing `max_new_tokens`.\n",
      "  warnings.warn(\n",
      "C:\\Users\\jimli\\anaconda3\\envs\\nlp_venv\\lib\\site-packages\\transformers\\generation\\utils.py:1268: UserWarning: Input length of input_ids is 1197, but `max_length` is set to 1000. This can lead to unexpected behavior. You should consider increasing `max_new_tokens`.\n",
      "  warnings.warn(\n",
      "C:\\Users\\jimli\\anaconda3\\envs\\nlp_venv\\lib\\site-packages\\transformers\\generation\\utils.py:1268: UserWarning: Input length of input_ids is 1615, but `max_length` is set to 1000. This can lead to unexpected behavior. You should consider increasing `max_new_tokens`.\n",
      "  warnings.warn(\n",
      "C:\\Users\\jimli\\anaconda3\\envs\\nlp_venv\\lib\\site-packages\\transformers\\generation\\utils.py:1268: UserWarning: Input length of input_ids is 1020, but `max_length` is set to 1000. This can lead to unexpected behavior. You should consider increasing `max_new_tokens`.\n",
      "  warnings.warn(\n",
      "C:\\Users\\jimli\\anaconda3\\envs\\nlp_venv\\lib\\site-packages\\transformers\\generation\\utils.py:1268: UserWarning: Input length of input_ids is 1080, but `max_length` is set to 1000. This can lead to unexpected behavior. You should consider increasing `max_new_tokens`.\n",
      "  warnings.warn(\n",
      "C:\\Users\\jimli\\anaconda3\\envs\\nlp_venv\\lib\\site-packages\\transformers\\generation\\utils.py:1268: UserWarning: Input length of input_ids is 1221, but `max_length` is set to 1000. This can lead to unexpected behavior. You should consider increasing `max_new_tokens`.\n",
      "  warnings.warn(\n",
      "C:\\Users\\jimli\\anaconda3\\envs\\nlp_venv\\lib\\site-packages\\transformers\\generation\\utils.py:1268: UserWarning: Input length of input_ids is 1879, but `max_length` is set to 1000. This can lead to unexpected behavior. You should consider increasing `max_new_tokens`.\n",
      "  warnings.warn(\n",
      "C:\\Users\\jimli\\anaconda3\\envs\\nlp_venv\\lib\\site-packages\\transformers\\generation\\utils.py:1268: UserWarning: Input length of input_ids is 1039, but `max_length` is set to 1000. This can lead to unexpected behavior. You should consider increasing `max_new_tokens`.\n",
      "  warnings.warn(\n",
      "C:\\Users\\jimli\\anaconda3\\envs\\nlp_venv\\lib\\site-packages\\transformers\\generation\\utils.py:1268: UserWarning: Input length of input_ids is 1099, but `max_length` is set to 1000. This can lead to unexpected behavior. You should consider increasing `max_new_tokens`.\n",
      "  warnings.warn(\n",
      "C:\\Users\\jimli\\anaconda3\\envs\\nlp_venv\\lib\\site-packages\\transformers\\generation\\utils.py:1268: UserWarning: Input length of input_ids is 1031, but `max_length` is set to 1000. This can lead to unexpected behavior. You should consider increasing `max_new_tokens`.\n",
      "  warnings.warn(\n",
      "C:\\Users\\jimli\\anaconda3\\envs\\nlp_venv\\lib\\site-packages\\transformers\\generation\\utils.py:1268: UserWarning: Input length of input_ids is 1047, but `max_length` is set to 1000. This can lead to unexpected behavior. You should consider increasing `max_new_tokens`.\n",
      "  warnings.warn(\n",
      "C:\\Users\\jimli\\anaconda3\\envs\\nlp_venv\\lib\\site-packages\\transformers\\generation\\utils.py:1268: UserWarning: Input length of input_ids is 1451, but `max_length` is set to 1000. This can lead to unexpected behavior. You should consider increasing `max_new_tokens`.\n",
      "  warnings.warn(\n",
      "C:\\Users\\jimli\\anaconda3\\envs\\nlp_venv\\lib\\site-packages\\transformers\\generation\\utils.py:1268: UserWarning: Input length of input_ids is 1095, but `max_length` is set to 1000. This can lead to unexpected behavior. You should consider increasing `max_new_tokens`.\n",
      "  warnings.warn(\n",
      "C:\\Users\\jimli\\anaconda3\\envs\\nlp_venv\\lib\\site-packages\\transformers\\generation\\utils.py:1268: UserWarning: Input length of input_ids is 1382, but `max_length` is set to 1000. This can lead to unexpected behavior. You should consider increasing `max_new_tokens`.\n",
      "  warnings.warn(\n",
      "C:\\Users\\jimli\\anaconda3\\envs\\nlp_venv\\lib\\site-packages\\transformers\\generation\\utils.py:1268: UserWarning: Input length of input_ids is 1600, but `max_length` is set to 1000. This can lead to unexpected behavior. You should consider increasing `max_new_tokens`.\n",
      "  warnings.warn(\n",
      "C:\\Users\\jimli\\anaconda3\\envs\\nlp_venv\\lib\\site-packages\\transformers\\generation\\utils.py:1268: UserWarning: Input length of input_ids is 1032, but `max_length` is set to 1000. This can lead to unexpected behavior. You should consider increasing `max_new_tokens`.\n",
      "  warnings.warn(\n",
      "C:\\Users\\jimli\\anaconda3\\envs\\nlp_venv\\lib\\site-packages\\transformers\\generation\\utils.py:1268: UserWarning: Input length of input_ids is 2192, but `max_length` is set to 1000. This can lead to unexpected behavior. You should consider increasing `max_new_tokens`.\n",
      "  warnings.warn(\n",
      "C:\\Users\\jimli\\anaconda3\\envs\\nlp_venv\\lib\\site-packages\\transformers\\generation\\utils.py:1268: UserWarning: Input length of input_ids is 1303, but `max_length` is set to 1000. This can lead to unexpected behavior. You should consider increasing `max_new_tokens`.\n",
      "  warnings.warn(\n",
      "C:\\Users\\jimli\\anaconda3\\envs\\nlp_venv\\lib\\site-packages\\transformers\\generation\\utils.py:1268: UserWarning: Input length of input_ids is 1351, but `max_length` is set to 1000. This can lead to unexpected behavior. You should consider increasing `max_new_tokens`.\n",
      "  warnings.warn(\n",
      "C:\\Users\\jimli\\anaconda3\\envs\\nlp_venv\\lib\\site-packages\\transformers\\generation\\utils.py:1268: UserWarning: Input length of input_ids is 1231, but `max_length` is set to 1000. This can lead to unexpected behavior. You should consider increasing `max_new_tokens`.\n",
      "  warnings.warn(\n",
      "C:\\Users\\jimli\\anaconda3\\envs\\nlp_venv\\lib\\site-packages\\transformers\\generation\\utils.py:1268: UserWarning: Input length of input_ids is 1787, but `max_length` is set to 1000. This can lead to unexpected behavior. You should consider increasing `max_new_tokens`.\n",
      "  warnings.warn(\n",
      "C:\\Users\\jimli\\anaconda3\\envs\\nlp_venv\\lib\\site-packages\\transformers\\generation\\utils.py:1268: UserWarning: Input length of input_ids is 1282, but `max_length` is set to 1000. This can lead to unexpected behavior. You should consider increasing `max_new_tokens`.\n",
      "  warnings.warn(\n",
      "C:\\Users\\jimli\\anaconda3\\envs\\nlp_venv\\lib\\site-packages\\transformers\\generation\\utils.py:1268: UserWarning: Input length of input_ids is 1419, but `max_length` is set to 1000. This can lead to unexpected behavior. You should consider increasing `max_new_tokens`.\n",
      "  warnings.warn(\n",
      "C:\\Users\\jimli\\anaconda3\\envs\\nlp_venv\\lib\\site-packages\\transformers\\generation\\utils.py:1268: UserWarning: Input length of input_ids is 1127, but `max_length` is set to 1000. This can lead to unexpected behavior. You should consider increasing `max_new_tokens`.\n",
      "  warnings.warn(\n",
      "C:\\Users\\jimli\\anaconda3\\envs\\nlp_venv\\lib\\site-packages\\transformers\\generation\\utils.py:1268: UserWarning: Input length of input_ids is 1695, but `max_length` is set to 1000. This can lead to unexpected behavior. You should consider increasing `max_new_tokens`.\n",
      "  warnings.warn(\n",
      "C:\\Users\\jimli\\anaconda3\\envs\\nlp_venv\\lib\\site-packages\\transformers\\generation\\utils.py:1268: UserWarning: Input length of input_ids is 1141, but `max_length` is set to 1000. This can lead to unexpected behavior. You should consider increasing `max_new_tokens`.\n",
      "  warnings.warn(\n",
      "C:\\Users\\jimli\\anaconda3\\envs\\nlp_venv\\lib\\site-packages\\transformers\\generation\\utils.py:1268: UserWarning: Input length of input_ids is 1136, but `max_length` is set to 1000. This can lead to unexpected behavior. You should consider increasing `max_new_tokens`.\n",
      "  warnings.warn(\n",
      "C:\\Users\\jimli\\anaconda3\\envs\\nlp_venv\\lib\\site-packages\\transformers\\generation\\utils.py:1268: UserWarning: Input length of input_ids is 1200, but `max_length` is set to 1000. This can lead to unexpected behavior. You should consider increasing `max_new_tokens`.\n",
      "  warnings.warn(\n",
      "C:\\Users\\jimli\\anaconda3\\envs\\nlp_venv\\lib\\site-packages\\transformers\\generation\\utils.py:1268: UserWarning: Input length of input_ids is 1176, but `max_length` is set to 1000. This can lead to unexpected behavior. You should consider increasing `max_new_tokens`.\n",
      "  warnings.warn(\n",
      "C:\\Users\\jimli\\anaconda3\\envs\\nlp_venv\\lib\\site-packages\\transformers\\generation\\utils.py:1268: UserWarning: Input length of input_ids is 1190, but `max_length` is set to 1000. This can lead to unexpected behavior. You should consider increasing `max_new_tokens`.\n",
      "  warnings.warn(\n",
      "C:\\Users\\jimli\\anaconda3\\envs\\nlp_venv\\lib\\site-packages\\transformers\\generation\\utils.py:1268: UserWarning: Input length of input_ids is 1513, but `max_length` is set to 1000. This can lead to unexpected behavior. You should consider increasing `max_new_tokens`.\n",
      "  warnings.warn(\n",
      "C:\\Users\\jimli\\anaconda3\\envs\\nlp_venv\\lib\\site-packages\\transformers\\generation\\utils.py:1268: UserWarning: Input length of input_ids is 1014, but `max_length` is set to 1000. This can lead to unexpected behavior. You should consider increasing `max_new_tokens`.\n",
      "  warnings.warn(\n",
      "C:\\Users\\jimli\\anaconda3\\envs\\nlp_venv\\lib\\site-packages\\transformers\\generation\\utils.py:1268: UserWarning: Input length of input_ids is 1015, but `max_length` is set to 1000. This can lead to unexpected behavior. You should consider increasing `max_new_tokens`.\n",
      "  warnings.warn(\n",
      "C:\\Users\\jimli\\anaconda3\\envs\\nlp_venv\\lib\\site-packages\\transformers\\generation\\utils.py:1268: UserWarning: Input length of input_ids is 1779, but `max_length` is set to 1000. This can lead to unexpected behavior. You should consider increasing `max_new_tokens`.\n",
      "  warnings.warn(\n",
      "C:\\Users\\jimli\\anaconda3\\envs\\nlp_venv\\lib\\site-packages\\transformers\\generation\\utils.py:1268: UserWarning: Input length of input_ids is 1111, but `max_length` is set to 1000. This can lead to unexpected behavior. You should consider increasing `max_new_tokens`.\n",
      "  warnings.warn(\n",
      "C:\\Users\\jimli\\anaconda3\\envs\\nlp_venv\\lib\\site-packages\\transformers\\generation\\utils.py:1268: UserWarning: Input length of input_ids is 2693, but `max_length` is set to 1000. This can lead to unexpected behavior. You should consider increasing `max_new_tokens`.\n",
      "  warnings.warn(\n",
      "C:\\Users\\jimli\\anaconda3\\envs\\nlp_venv\\lib\\site-packages\\transformers\\generation\\utils.py:1268: UserWarning: Input length of input_ids is 1137, but `max_length` is set to 1000. This can lead to unexpected behavior. You should consider increasing `max_new_tokens`.\n",
      "  warnings.warn(\n",
      "C:\\Users\\jimli\\anaconda3\\envs\\nlp_venv\\lib\\site-packages\\transformers\\generation\\utils.py:1268: UserWarning: Input length of input_ids is 2587, but `max_length` is set to 1000. This can lead to unexpected behavior. You should consider increasing `max_new_tokens`.\n",
      "  warnings.warn(\n",
      "C:\\Users\\jimli\\anaconda3\\envs\\nlp_venv\\lib\\site-packages\\transformers\\generation\\utils.py:1268: UserWarning: Input length of input_ids is 1800, but `max_length` is set to 1000. This can lead to unexpected behavior. You should consider increasing `max_new_tokens`.\n",
      "  warnings.warn(\n",
      "C:\\Users\\jimli\\anaconda3\\envs\\nlp_venv\\lib\\site-packages\\transformers\\generation\\utils.py:1268: UserWarning: Input length of input_ids is 1199, but `max_length` is set to 1000. This can lead to unexpected behavior. You should consider increasing `max_new_tokens`.\n",
      "  warnings.warn(\n",
      "C:\\Users\\jimli\\anaconda3\\envs\\nlp_venv\\lib\\site-packages\\transformers\\generation\\utils.py:1268: UserWarning: Input length of input_ids is 1455, but `max_length` is set to 1000. This can lead to unexpected behavior. You should consider increasing `max_new_tokens`.\n",
      "  warnings.warn(\n",
      "C:\\Users\\jimli\\anaconda3\\envs\\nlp_venv\\lib\\site-packages\\transformers\\generation\\utils.py:1268: UserWarning: Input length of input_ids is 1654, but `max_length` is set to 1000. This can lead to unexpected behavior. You should consider increasing `max_new_tokens`.\n",
      "  warnings.warn(\n",
      "C:\\Users\\jimli\\anaconda3\\envs\\nlp_venv\\lib\\site-packages\\transformers\\generation\\utils.py:1268: UserWarning: Input length of input_ids is 1005, but `max_length` is set to 1000. This can lead to unexpected behavior. You should consider increasing `max_new_tokens`.\n",
      "  warnings.warn(\n",
      "C:\\Users\\jimli\\anaconda3\\envs\\nlp_venv\\lib\\site-packages\\transformers\\generation\\utils.py:1268: UserWarning: Input length of input_ids is 1006, but `max_length` is set to 1000. This can lead to unexpected behavior. You should consider increasing `max_new_tokens`.\n",
      "  warnings.warn(\n",
      "C:\\Users\\jimli\\anaconda3\\envs\\nlp_venv\\lib\\site-packages\\transformers\\generation\\utils.py:1268: UserWarning: Input length of input_ids is 2065, but `max_length` is set to 1000. This can lead to unexpected behavior. You should consider increasing `max_new_tokens`.\n",
      "  warnings.warn(\n",
      "C:\\Users\\jimli\\anaconda3\\envs\\nlp_venv\\lib\\site-packages\\transformers\\generation\\utils.py:1268: UserWarning: Input length of input_ids is 1439, but `max_length` is set to 1000. This can lead to unexpected behavior. You should consider increasing `max_new_tokens`.\n",
      "  warnings.warn(\n",
      "C:\\Users\\jimli\\anaconda3\\envs\\nlp_venv\\lib\\site-packages\\transformers\\generation\\utils.py:1268: UserWarning: Input length of input_ids is 2611, but `max_length` is set to 1000. This can lead to unexpected behavior. You should consider increasing `max_new_tokens`.\n",
      "  warnings.warn(\n",
      "C:\\Users\\jimli\\anaconda3\\envs\\nlp_venv\\lib\\site-packages\\transformers\\generation\\utils.py:1268: UserWarning: Input length of input_ids is 1996, but `max_length` is set to 1000. This can lead to unexpected behavior. You should consider increasing `max_new_tokens`.\n",
      "  warnings.warn(\n",
      "C:\\Users\\jimli\\anaconda3\\envs\\nlp_venv\\lib\\site-packages\\transformers\\generation\\utils.py:1268: UserWarning: Input length of input_ids is 1232, but `max_length` is set to 1000. This can lead to unexpected behavior. You should consider increasing `max_new_tokens`.\n",
      "  warnings.warn(\n",
      "C:\\Users\\jimli\\anaconda3\\envs\\nlp_venv\\lib\\site-packages\\transformers\\generation\\utils.py:1268: UserWarning: Input length of input_ids is 2117, but `max_length` is set to 1000. This can lead to unexpected behavior. You should consider increasing `max_new_tokens`.\n",
      "  warnings.warn(\n",
      "C:\\Users\\jimli\\anaconda3\\envs\\nlp_venv\\lib\\site-packages\\transformers\\generation\\utils.py:1268: UserWarning: Input length of input_ids is 1204, but `max_length` is set to 1000. This can lead to unexpected behavior. You should consider increasing `max_new_tokens`.\n",
      "  warnings.warn(\n",
      "C:\\Users\\jimli\\anaconda3\\envs\\nlp_venv\\lib\\site-packages\\transformers\\generation\\utils.py:1268: UserWarning: Input length of input_ids is 1045, but `max_length` is set to 1000. This can lead to unexpected behavior. You should consider increasing `max_new_tokens`.\n",
      "  warnings.warn(\n",
      "C:\\Users\\jimli\\anaconda3\\envs\\nlp_venv\\lib\\site-packages\\transformers\\generation\\utils.py:1268: UserWarning: Input length of input_ids is 1643, but `max_length` is set to 1000. This can lead to unexpected behavior. You should consider increasing `max_new_tokens`.\n",
      "  warnings.warn(\n",
      "C:\\Users\\jimli\\anaconda3\\envs\\nlp_venv\\lib\\site-packages\\transformers\\generation\\utils.py:1268: UserWarning: Input length of input_ids is 1703, but `max_length` is set to 1000. This can lead to unexpected behavior. You should consider increasing `max_new_tokens`.\n",
      "  warnings.warn(\n",
      "C:\\Users\\jimli\\anaconda3\\envs\\nlp_venv\\lib\\site-packages\\transformers\\generation\\utils.py:1268: UserWarning: Input length of input_ids is 1007, but `max_length` is set to 1000. This can lead to unexpected behavior. You should consider increasing `max_new_tokens`.\n",
      "  warnings.warn(\n",
      "C:\\Users\\jimli\\anaconda3\\envs\\nlp_venv\\lib\\site-packages\\transformers\\generation\\utils.py:1268: UserWarning: Input length of input_ids is 1119, but `max_length` is set to 1000. This can lead to unexpected behavior. You should consider increasing `max_new_tokens`.\n",
      "  warnings.warn(\n",
      "C:\\Users\\jimli\\anaconda3\\envs\\nlp_venv\\lib\\site-packages\\transformers\\generation\\utils.py:1268: UserWarning: Input length of input_ids is 1375, but `max_length` is set to 1000. This can lead to unexpected behavior. You should consider increasing `max_new_tokens`.\n",
      "  warnings.warn(\n",
      "C:\\Users\\jimli\\anaconda3\\envs\\nlp_venv\\lib\\site-packages\\transformers\\generation\\utils.py:1268: UserWarning: Input length of input_ids is 1895, but `max_length` is set to 1000. This can lead to unexpected behavior. You should consider increasing `max_new_tokens`.\n",
      "  warnings.warn(\n",
      "C:\\Users\\jimli\\anaconda3\\envs\\nlp_venv\\lib\\site-packages\\transformers\\generation\\utils.py:1268: UserWarning: Input length of input_ids is 1315, but `max_length` is set to 1000. This can lead to unexpected behavior. You should consider increasing `max_new_tokens`.\n",
      "  warnings.warn(\n",
      "C:\\Users\\jimli\\anaconda3\\envs\\nlp_venv\\lib\\site-packages\\transformers\\generation\\utils.py:1268: UserWarning: Input length of input_ids is 1771, but `max_length` is set to 1000. This can lead to unexpected behavior. You should consider increasing `max_new_tokens`.\n",
      "  warnings.warn(\n",
      "C:\\Users\\jimli\\anaconda3\\envs\\nlp_venv\\lib\\site-packages\\transformers\\generation\\utils.py:1268: UserWarning: Input length of input_ids is 1708, but `max_length` is set to 1000. This can lead to unexpected behavior. You should consider increasing `max_new_tokens`.\n",
      "  warnings.warn(\n"
     ]
    }
   ],
   "source": [
    "%%timeit \n",
    "\n",
    "# create the adversarial dataset\n",
    "df['Source_Sentences'] = df['Source_Sentences'].apply(lambda x: create_adversarial_sent(x))"
   ]
  },
  {
   "cell_type": "code",
   "execution_count": null,
   "id": "94a9c532-d833-451b-bd77-b490233d062a",
   "metadata": {},
   "outputs": [],
   "source": []
  }
 ],
 "metadata": {
  "kernelspec": {
   "display_name": "nlp_venv",
   "language": "python",
   "name": "nlp_venv"
  },
  "language_info": {
   "codemirror_mode": {
    "name": "ipython",
    "version": 3
   },
   "file_extension": ".py",
   "mimetype": "text/x-python",
   "name": "python",
   "nbconvert_exporter": "python",
   "pygments_lexer": "ipython3",
   "version": "3.9.18"
  }
 },
 "nbformat": 4,
 "nbformat_minor": 5
}
