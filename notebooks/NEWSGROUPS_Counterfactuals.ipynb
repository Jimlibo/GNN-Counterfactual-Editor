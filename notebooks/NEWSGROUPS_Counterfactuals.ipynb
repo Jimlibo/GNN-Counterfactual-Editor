{
 "cells": [
  {
   "cell_type": "markdown",
   "id": "ae91e1ee-58fb-4334-b78e-2a4d37d65401",
   "metadata": {},
   "source": [
    "# NEWSGROUPS Counterfactuals"
   ]
  },
  {
   "cell_type": "markdown",
   "id": "09db584e-8cce-47ea-8af7-43c55d276a3d",
   "metadata": {},
   "source": [
    "## Imports"
   ]
  },
  {
   "cell_type": "code",
   "execution_count": 2,
   "id": "6d71bafb-eeb8-44b4-b9e4-d3a653195c8e",
   "metadata": {},
   "outputs": [
    {
     "name": "stderr",
     "output_type": "stream",
     "text": [
      "C:\\Users\\jimli\\anaconda3\\envs\\nlp_venv\\lib\\site-packages\\tqdm\\auto.py:21: TqdmWarning: IProgress not found. Please update jupyter and ipywidgets. See https://ipywidgets.readthedocs.io/en/stable/user_install.html\n",
      "  from .autonotebook import tqdm as notebook_tqdm\n",
      "[nltk_data] Downloading package punkt to\n",
      "[nltk_data]     C:\\Users\\jimli\\AppData\\Roaming\\nltk_data...\n",
      "[nltk_data]   Package punkt is already up-to-date!\n",
      "[nltk_data] Downloading package wordnet to\n",
      "[nltk_data]     C:\\Users\\jimli\\AppData\\Roaming\\nltk_data...\n",
      "[nltk_data]   Package wordnet is already up-to-date!\n",
      "[nltk_data] Downloading package omw-1.4 to\n",
      "[nltk_data]     C:\\Users\\jimli\\AppData\\Roaming\\nltk_data...\n",
      "[nltk_data]   Package omw-1.4 is already up-to-date!\n"
     ]
    }
   ],
   "source": [
    "%run functions/Edge_Weights_Updating.ipynb"
   ]
  },
  {
   "cell_type": "markdown",
   "id": "d7be8c88-6911-47bb-b359-49cab559b32a",
   "metadata": {},
   "source": [
    "## Data Reading"
   ]
  },
  {
   "cell_type": "code",
   "execution_count": null,
   "id": "6d228364-b3b5-440f-889e-a5935969445c",
   "metadata": {},
   "outputs": [],
   "source": [
    "train_df = pd.read_csv('../Data/NEWSGROUPS/train/newsgroups_train.csv')\n",
    "train_df.head()"
   ]
  },
  {
   "cell_type": "code",
   "execution_count": null,
   "id": "82ed21ad-edff-487b-9da2-85cc2f34351d",
   "metadata": {},
   "outputs": [],
   "source": [
    "test_df = pd.read_csv('../Data/NEWSGROUPS/test/newsgroups_test.csv')\n",
    "test_df.head()"
   ]
  },
  {
   "cell_type": "code",
   "execution_count": null,
   "id": "df17eba6-ed3b-4dc4-aab7-8058879a62b6",
   "metadata": {},
   "outputs": [],
   "source": [
    "df_all = pd.concat([train_df, test_df], ignore_index=True)\n",
    "assert df_all.shape[0] == train_df.shape[0] + test_df.shape[0]\n",
    "\n",
    "df_all.head()"
   ]
  },
  {
   "cell_type": "code",
   "execution_count": null,
   "id": "6234e1a3-2e38-4432-9da8-a50f6a9329b6",
   "metadata": {},
   "outputs": [],
   "source": [
    "sentences = test_df[['text']]\n",
    "sentences.head()"
   ]
  },
  {
   "cell_type": "markdown",
   "id": "b00b23cc-a2c8-4540-95a2-dfe3c2c89acf",
   "metadata": {},
   "source": [
    "## Counterfactuals based on Fluency"
   ]
  },
  {
   "cell_type": "code",
   "execution_count": null,
   "id": "b3658125-9f74-40b0-8c0f-ba46ce57f6c8",
   "metadata": {},
   "outputs": [],
   "source": [
    "fluent_baseline_metric, baseline_counter_df = get_baseline_metric(sentences, pos= 'adv', eval_metric=get_fluency, antonyms=True)\n",
    "print(\"Baseline metric value: {}\".format(fluent_baseline_metric))"
   ]
  },
  {
   "cell_type": "markdown",
   "id": "440b52a0-4b91-4b9b-938f-da3d67376a1e",
   "metadata": {},
   "source": [
    "## Counterfactuals based on Bertscore"
   ]
  },
  {
   "cell_type": "code",
   "execution_count": null,
   "id": "fa505ee4-bf17-4ea2-8f07-b00465732ebf",
   "metadata": {},
   "outputs": [],
   "source": [
    "bert_baseline_metric = get_bertscore(sentences, baseline_counter_df)\n",
    "print(\"Baseline metric value: {}\".format(bert_baseline_metric))"
   ]
  },
  {
   "cell_type": "markdown",
   "id": "ec82db2c-12f4-4a1c-aa2e-031e800c4716",
   "metadata": {},
   "source": [
    "## Counterfactuals based on Fluency and Bertscore"
   ]
  },
  {
   "cell_type": "code",
   "execution_count": null,
   "id": "698a7755-3f37-4d59-a53c-687dc92bfef5",
   "metadata": {},
   "outputs": [],
   "source": [
    "fluent_bert_baseline_metric = 2 * fluent_baseline_metric * (1 - bert_baseline_metric) / (fluent_baseline_metric + 1 - bert_baseline_metric)\n",
    "print(\"Baseline metric value: {}\".format(fluent_bert_baseline_metric))"
   ]
  }
 ],
 "metadata": {
  "kernelspec": {
   "display_name": "nlp_venv",
   "language": "python",
   "name": "nlp_venv"
  },
  "language_info": {
   "codemirror_mode": {
    "name": "ipython",
    "version": 3
   },
   "file_extension": ".py",
   "mimetype": "text/x-python",
   "name": "python",
   "nbconvert_exporter": "python",
   "pygments_lexer": "ipython3",
   "version": "3.9.18"
  }
 },
 "nbformat": 4,
 "nbformat_minor": 5
}
