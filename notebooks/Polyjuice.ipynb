{
 "cells": [
  {
   "cell_type": "markdown",
   "id": "60cade1f-e960-47e3-9b37-37fe52b1bd4c",
   "metadata": {},
   "source": [
    "# Polyjuice\n",
    "<b>Date:</b> October 5, 2023\\\n",
    "<b>Author:</b> Dimitris Lymperopoulos\\\n",
    "<b>Description:</b> A notebook for experimentation with Polyjuice framework\n"
   ]
  },
  {
   "cell_type": "markdown",
   "id": "c581cc28-25f3-4b9b-a0f8-ddc50e149bff",
   "metadata": {},
   "source": [
    "## Package Installation\n",
    "Run the cell below to download and install the necessary python packages for Polyjuice."
   ]
  },
  {
   "cell_type": "code",
   "execution_count": null,
   "id": "199f1ce2-9590-4d6c-844e-f81aa5bf583a",
   "metadata": {},
   "outputs": [],
   "source": [
    "!pip install torch\n",
    "!python -m spacy download en_core_web_sm"
   ]
  },
  {
   "cell_type": "markdown",
   "id": "ba1154f7-93ae-4e9e-b098-5811b04e5036",
   "metadata": {},
   "source": [
    "## Imports"
   ]
  },
  {
   "cell_type": "code",
   "execution_count": 1,
   "id": "86657f0e-d777-47f1-adb3-ce3c2ff090bd",
   "metadata": {},
   "outputs": [
    {
     "name": "stderr",
     "output_type": "stream",
     "text": [
      "C:\\Users\\jimli\\anaconda3\\envs\\nlp_venv\\lib\\site-packages\\tqdm\\auto.py:21: TqdmWarning: IProgress not found. Please update jupyter and ipywidgets. See https://ipywidgets.readthedocs.io/en/stable/user_install.html\n",
      "  from .autonotebook import tqdm as notebook_tqdm\n"
     ]
    }
   ],
   "source": [
    "import numpy as np\n",
    "import pandas as pd\n",
    "from polyjuice import Polyjuice"
   ]
  },
  {
   "cell_type": "markdown",
   "id": "98a86597-f3c3-48ca-8f3d-2cd3f9eb0b9f",
   "metadata": {},
   "source": [
    "## Experiments"
   ]
  },
  {
   "cell_type": "code",
   "execution_count": 6,
   "id": "65222333-82eb-43f5-a705-2811daa5d526",
   "metadata": {},
   "outputs": [],
   "source": [
    "# initial parameters and variables\n",
    "pj = Polyjuice(model_path=\"uw-hai/polyjuice\", is_cuda=True)\n",
    "text = \"A dog is embraced by the woman.\""
   ]
  },
  {
   "cell_type": "code",
   "execution_count": 9,
   "id": "bddd3900-d060-46ec-88f9-a3612fad5119",
   "metadata": {},
   "outputs": [
    {
     "name": "stdout",
     "output_type": "stream",
     "text": [
      "A dog is being cradled by a person.\n",
      "A dog is embraced by no woman.\n",
      "No dog is outside in the grass.\n"
     ]
    }
   ],
   "source": [
    "# Experiment 1 - Simplest use of Polyjuice with default parameters\n",
    "perturbations = pj.perturb(text)\n",
    "print(\"\\n\".join(perturbations))"
   ]
  },
  {
   "cell_type": "code",
   "execution_count": 16,
   "id": "4b2eef1d-3a4e-4211-bf50-42c7e6cd3ae2",
   "metadata": {},
   "outputs": [
    {
     "name": "stdout",
     "output_type": "stream",
     "text": [
      "A dog is n't embraced by the woman.\n",
      "A dog is not being held by the woman.\n",
      "A dog is not by the woman.\n",
      "A dog is not embraced by the woman.\n",
      "A dog is not being attacked by the woman.\n"
     ]
    }
   ],
   "source": [
    "# Experiment 2 - Customized perturbations\n",
    "perturbations = pj.perturb(\n",
    "    orig_sent=text,\n",
    "    # can specify where to put the blank. Otherwise, it's automatically selected.\n",
    "    # Can be a list or a single sentence.\n",
    "    blanked_sent=None,\n",
    "    # can also specify the ctrl code (a list or a single code.)\n",
    "    # The code should be from 'resemantic', 'restructure', 'negation', 'insert', 'lexical', 'shuffle', 'quantifier', 'delete'.\n",
    "    ctrl_code='negation',\n",
    "    # Customize perplexity score. \n",
    "    perplex_thred=None,\n",
    "    # number of perturbations to return\n",
    "    num_perturbations=5,\n",
    "    # the function also takes in additional arguments for huggingface generators.\n",
    "    num_beams=6\n",
    ")\n",
    "print(\"\\n\".join(perturbations))"
   ]
  },
  {
   "cell_type": "code",
   "execution_count": 13,
   "id": "fa4bacaf-382f-4f3e-8e64-ab8d8f5bfb3d",
   "metadata": {},
   "outputs": [],
   "source": [
    "# Experiment 3\n"
   ]
  }
 ],
 "metadata": {
  "kernelspec": {
   "display_name": "nlp_venv",
   "language": "python",
   "name": "nlp_venv"
  },
  "language_info": {
   "codemirror_mode": {
    "name": "ipython",
    "version": 3
   },
   "file_extension": ".py",
   "mimetype": "text/x-python",
   "name": "python",
   "nbconvert_exporter": "python",
   "pygments_lexer": "ipython3",
   "version": "3.9.18"
  }
 },
 "nbformat": 4,
 "nbformat_minor": 5
}
