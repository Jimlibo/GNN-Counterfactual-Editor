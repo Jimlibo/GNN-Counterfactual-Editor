{
 "cells": [
  {
   "cell_type": "markdown",
   "source": [
    "## Imports"
   ],
   "metadata": {
    "collapsed": false
   }
  },
  {
   "cell_type": "code",
   "execution_count": 35,
   "outputs": [],
   "source": [
    "import pandas as pd\n",
    "import numpy as np\n",
    "from tqdm import tqdm\n",
    "\n",
    "from transformers import DistilBertForSequenceClassification, DistilBertTokenizerFast\n",
    "from utils.search_funcs import get_prediction\n",
    "from utils.evaluation_metrics import *"
   ],
   "metadata": {
    "collapsed": false
   }
  },
  {
   "cell_type": "markdown",
   "source": [
    "## Load Data"
   ],
   "metadata": {
    "collapsed": false
   }
  },
  {
   "cell_type": "code",
   "execution_count": 25,
   "outputs": [
    {
     "name": "stdout",
     "output_type": "stream",
     "text": [
      "100\n"
     ]
    }
   ],
   "source": [
    "# ORIGINAL EDITS\n",
    "orig_sents = pd.read_csv('C:/Users/jimli/Desktop/imdb_reviews.csv').head(100)['Source_Sentences'].tolist()\n",
    "orig_sent_set = set(orig_sents)\n",
    "print(len(orig_sents))"
   ],
   "metadata": {
    "collapsed": false
   }
  },
  {
   "cell_type": "markdown",
   "source": [],
   "metadata": {
    "collapsed": false
   }
  },
  {
   "cell_type": "code",
   "execution_count": 20,
   "outputs": [
    {
     "name": "stdout",
     "output_type": "stream",
     "text": [
      "95\n"
     ]
    }
   ],
   "source": [
    "# MICE EDITS\n",
    "mice_df = pd.read_csv(\"C:/Users/jimli/Documents/thesis/source_code/Counterfactual-Editor/Edits/imdb/mice_imdb_edits.csv\", sep='\\t')[['orig_input', 'edited_input']]\n",
    "mice_orig_sents = mice_df['orig_input'].tolist()\n",
    "mice_sents = mice_df['edited_input'].tolist()\n",
    "\n",
    "mice_sents_dict = {k: v for k, v in zip(mice_orig_sents, mice_sents) if k in orig_sent_set}"
   ],
   "metadata": {
    "collapsed": false
   }
  },
  {
   "cell_type": "code",
   "execution_count": 21,
   "outputs": [
    {
     "name": "stdout",
     "output_type": "stream",
     "text": [
      "100\n"
     ]
    }
   ],
   "source": [
    "# POLYJUICE EDITS\n",
    "pj_sents = pd.read_csv(\"C:/Users/jimli/Documents/thesis/source_code/Counterfactual-Editor/Edits/imdb/polyjuice_imdb_edits.csv\", sep='\\t')['counter_sents'].tolist()\n",
    "print(len(pj_sents))"
   ],
   "metadata": {
    "collapsed": false
   }
  },
  {
   "cell_type": "code",
   "execution_count": 23,
   "outputs": [
    {
     "name": "stdout",
     "output_type": "stream",
     "text": [
      "100\n"
     ]
    }
   ],
   "source": [
    "# GNN EDITS\n",
    "gnn_sents = pd.read_csv(\"C:/Users/jimli/Desktop/gnn_imdb_MUG_edits2.csv\")['counter_sents'].tolist()\n",
    "print(len(gnn_sents))"
   ],
   "metadata": {
    "collapsed": false
   }
  },
  {
   "cell_type": "markdown",
   "source": [
    "## Evaluation"
   ],
   "metadata": {
    "collapsed": false
   }
  },
  {
   "cell_type": "code",
   "execution_count": 27,
   "outputs": [
    {
     "name": "stderr",
     "output_type": "stream",
     "text": [
      "C:\\Users\\jimli\\anaconda3\\envs\\nlp_venv\\lib\\site-packages\\transformers\\configuration_utils.py:336: UserWarning: Passing `gradient_checkpointing` to a config initialization is deprecated and will be removed in v5 Transformers. Using `model.gradient_checkpointing_enable()` instead, or if you are using the `Trainer` API, pass `gradient_checkpointing=True` in your `TrainingArguments`.\n",
      "  warnings.warn(\n",
      " 32%|███▏      | 32/100 [02:18<05:33,  4.90s/it]Token indices sequence length is longer than the specified maximum sequence length for this model (527 > 512). Running this sequence through the model will result in indexing errors\n",
      "100%|██████████| 100/100 [06:52<00:00,  4.12s/it]\n"
     ]
    }
   ],
   "source": [
    "fl_model, fl_tokenizer = model_init('t5-base', cuda=not torch.cuda.is_available())\n",
    "sents = []\n",
    "for i in tqdm(range(100)):\n",
    "    orig_sent = orig_sents[i]\n",
    "    mice_sent = mice_sents_dict.get(orig_sent, None)\n",
    "    pj_sent = pj_sents[i]\n",
    "    gnn_sent = gnn_sents[i]\n",
    "\n",
    "    if mice_sent is None:\n",
    "        continue\n",
    "    try:\n",
    "        gnn_fluency =  abs(\n",
    "                        1 - sent_scoring(fl_model, fl_tokenizer, gnn_sent, cuda=False)[0] / sent_scoring(\n",
    "                            fl_model, fl_tokenizer, orig_sent, cuda=False)[0]\n",
    "                        )\n",
    "        gnn_minimality = edit_distance(orig_sent.lower(), gnn_sent.lower())\n",
    "\n",
    "        pj_fluency =  abs(\n",
    "                        1 - sent_scoring(fl_model, fl_tokenizer, pj_sent, cuda=False)[0] / sent_scoring(\n",
    "                            fl_model, fl_tokenizer, orig_sent, cuda=False)[0]\n",
    "                        )\n",
    "        pj_minimality = edit_distance(orig_sent.lower(), pj_sent.lower())\n",
    "\n",
    "        mice_fluency =  abs(\n",
    "                        1 - sent_scoring(fl_model, fl_tokenizer, mice_sent, cuda=False)[0] / sent_scoring(\n",
    "                            fl_model, fl_tokenizer, orig_sent, cuda=False)[0]\n",
    "                        )\n",
    "        mice_minimality = edit_distance(orig_sent.lower(), mice_sent.lower())\n",
    "\n",
    "    except:\n",
    "        continue\n",
    "\n",
    "    sents.append((orig_sent, mice_sent, pj_sent, gnn_sent, mice_fluency, pj_fluency, gnn_fluency, mice_minimality, pj_minimality, gnn_minimality))\n"
   ],
   "metadata": {
    "collapsed": false
   }
  },
  {
   "cell_type": "code",
   "execution_count": 31,
   "outputs": [
    {
     "name": "stdout",
     "output_type": "stream",
     "text": [
      "                                           orig_sent  \\\n",
      "0  When I see a movie, I usually seek entertainme...   \n",
      "1  For late-80s cheese, this really isn't so bad....   \n",
      "2  I watch many movies, but presently my genre nu...   \n",
      "3  Call it manipulative drivel if you will, but I...   \n",
      "4  I thought this was a really well written film....   \n",
      "\n",
      "                                           mice_sent  \\\n",
      "0  When I see a movie, I usually seek entertainme...   \n",
      "1  For late-80s  humor, this really isn't so bad....   \n",
      "2  I watch many movies, but presently my genre nu...   \n",
      "3   Bad humor if you will, but I  was sorely disa...   \n",
      "4  I  thought this was a  terrible film. I've hea...   \n",
      "\n",
      "                                             pj_sent  \\\n",
      "0  When I see a movie, I usually seek entertainme...   \n",
      "1  I got to know when I was about to get to Junio...   \n",
      "2                                     title( \"Medo\")   \n",
      "3  Call it manipulative drivel if you will, but I...   \n",
      "4  I thought this was a really well written film....   \n",
      "\n",
      "                                            gnn_sent  mice_fluency  \\\n",
      "0  when i see a movie, i usually seek entertainme...      0.009540   \n",
      "1  for late-80s cheese, this really isn't so bad....      0.014493   \n",
      "2  i watch many movies, but presently my genre pr...      0.003106   \n",
      "3  call it manipulative drivel if you will, but i...      0.147802   \n",
      "4  i bass this was a really well written film. i'...      0.084318   \n",
      "\n",
      "   pj_fluency  gnn_fluency  mice_minimality  pj_minimality  gnn_minimality  \n",
      "0    0.001182     0.015218         0.082192       0.006849        0.006849  \n",
      "1    0.895498     0.020193         0.038760       0.953488        0.007752  \n",
      "2    0.920657     0.023315         0.036082       1.000000        0.010309  \n",
      "3    0.001099     0.010870         0.298851       0.005747        0.005747  \n",
      "4    0.000225     0.300852         0.102041       0.020408        0.020408  \n",
      "85\n"
     ]
    }
   ],
   "source": [
    "sents_df = pd.DataFrame(sents, columns=['orig_sent', 'mice_sent', 'pj_sent', 'gnn_sent', 'mice_fluency', 'pj_fluency', 'gnn_fluency', 'mice_minimality', 'pj_minimality', 'gnn_minimality'])\n",
    "print(sents_df.head())\n",
    "print(sents_df.shape[0])"
   ],
   "metadata": {
    "collapsed": false
   }
  },
  {
   "cell_type": "code",
   "execution_count": 32,
   "outputs": [
    {
     "data": {
      "text/plain": "31"
     },
     "execution_count": 32,
     "metadata": {},
     "output_type": "execute_result"
    }
   ],
   "source": [
    "filtered_sents_df = sents_df[\n",
    "    (sents_df['mice_minimality'] > sents_df['gnn_minimality']) & (sents_df['pj_minimality'] > sents_df['gnn_minimality']) & (sents_df['gnn_fluency'] < sents_df['pj_fluency']) & (sents_df['gnn_fluency'] < sents_df['mice_fluency'])\n",
    "]\n",
    "filtered_sents_df.shape[0]"
   ],
   "metadata": {
    "collapsed": false
   }
  },
  {
   "cell_type": "code",
   "execution_count": 33,
   "outputs": [],
   "source": [
    "filtered_sents_df.to_csv(\"C:/Users/jimli/Desktop/filtered_imdb_sents.csv\", index=False)"
   ],
   "metadata": {
    "collapsed": false
   }
  },
  {
   "cell_type": "code",
   "execution_count": 36,
   "outputs": [
    {
     "name": "stderr",
     "output_type": "stream",
     "text": [
      "C:\\Users\\jimli\\anaconda3\\envs\\nlp_venv\\lib\\site-packages\\transformers\\configuration_utils.py:336: UserWarning: Passing `gradient_checkpointing` to a config initialization is deprecated and will be removed in v5 Transformers. Using `model.gradient_checkpointing_enable()` instead, or if you are using the `Trainer` API, pass `gradient_checkpointing=True` in your `TrainingArguments`.\n",
      "  warnings.warn(\n"
     ]
    }
   ],
   "source": [
    "model_path = \"C:/Users/jimli/Desktop/imdb_bert_predictor2\"\n",
    "predictor = DistilBertForSequenceClassification.from_pretrained(model_path)\n",
    "tokenizer= DistilBertTokenizerFast.from_pretrained('distilbert-base-uncased')"
   ],
   "metadata": {
    "collapsed": false
   }
  },
  {
   "cell_type": "code",
   "execution_count": 43,
   "outputs": [
    {
     "name": "stderr",
     "output_type": "stream",
     "text": [
      "C:\\Users\\jimli\\AppData\\Local\\Temp\\ipykernel_11840\\1814506073.py:1: SettingWithCopyWarning: \n",
      "A value is trying to be set on a copy of a slice from a DataFrame.\n",
      "Try using .loc[row_indexer,col_indexer] = value instead\n",
      "\n",
      "See the caveats in the documentation: https://pandas.pydata.org/pandas-docs/stable/user_guide/indexing.html#returning-a-view-versus-a-copy\n",
      "  filtered_sents_df['mice_label_flip'] = filtered_sents_df['mice_label_flip'].apply(lambda x: 1)\n"
     ]
    }
   ],
   "source": [
    "filtered_sents_df['mice_label_flip'] = filtered_sents_df['mice_label_flip'].apply(lambda x: 1)"
   ],
   "metadata": {
    "collapsed": false
   }
  },
  {
   "cell_type": "code",
   "execution_count": 40,
   "outputs": [
    {
     "name": "stderr",
     "output_type": "stream",
     "text": [
      "C:\\Users\\jimli\\AppData\\Local\\Temp\\ipykernel_11840\\3016539688.py:1: SettingWithCopyWarning: \n",
      "A value is trying to be set on a copy of a slice from a DataFrame.\n",
      "Try using .loc[row_indexer,col_indexer] = value instead\n",
      "\n",
      "See the caveats in the documentation: https://pandas.pydata.org/pandas-docs/stable/user_guide/indexing.html#returning-a-view-versus-a-copy\n",
      "  filtered_sents_df['pj_label_flip'] = filtered_sents_df.apply(lambda x: int(get_prediction(predictor, tokenizer, x['orig_sent']) != get_prediction(predictor, tokenizer, x['pj_sent'])), axis=1)\n"
     ]
    }
   ],
   "source": [
    "filtered_sents_df['pj_label_flip'] = filtered_sents_df.apply(lambda x: int(get_prediction(predictor, tokenizer, x['orig_sent']) != get_prediction(predictor, tokenizer, x['pj_sent'])), axis=1)"
   ],
   "metadata": {
    "collapsed": false
   }
  },
  {
   "cell_type": "code",
   "execution_count": 41,
   "outputs": [
    {
     "name": "stderr",
     "output_type": "stream",
     "text": [
      "C:\\Users\\jimli\\AppData\\Local\\Temp\\ipykernel_11840\\3691479077.py:1: SettingWithCopyWarning: \n",
      "A value is trying to be set on a copy of a slice from a DataFrame.\n",
      "Try using .loc[row_indexer,col_indexer] = value instead\n",
      "\n",
      "See the caveats in the documentation: https://pandas.pydata.org/pandas-docs/stable/user_guide/indexing.html#returning-a-view-versus-a-copy\n",
      "  filtered_sents_df['gnn_label_flip'] = filtered_sents_df.apply(lambda x: int(get_prediction(predictor, tokenizer, x['orig_sent']) != get_prediction(predictor, tokenizer, x['gnn_sent'])), axis=1)\n"
     ]
    }
   ],
   "source": [
    "filtered_sents_df['gnn_label_flip'] = filtered_sents_df.apply(lambda x: int(get_prediction(predictor, tokenizer, x['orig_sent']) != get_prediction(predictor, tokenizer, x['gnn_sent'])), axis=1)"
   ],
   "metadata": {
    "collapsed": false
   }
  },
  {
   "cell_type": "code",
   "execution_count": 44,
   "outputs": [
    {
     "data": {
      "text/plain": "                                            orig_sent  \\\n8   'Radio' is a beautiful movie based on a real s...   \n9   This is one of the best films I have ever seen...   \n12  I've been strangely attracted to this film sin...   \n16  Here's another of the 1940's westerns that I w...   \n17  Featuring some amazing and wonderful character...   \n\n                                            mice_sent  \\\n8   'Radio' is a  pretty bad movie that I only wat...   \n9   This is one of the best films I have ever seen...   \n12  I've been  looking forward to this film since ...   \n16   I thought this movie was crap. I won't let an...   \n17   With some  great acting and  music, a new  ca...   \n\n                                              pj_sent  \\\n8              told a story, how great person always.   \n9   This is one of the worst films I have ever see...   \n12                                          [ANSWER]    \n16  This is one of the straight up films you will ...   \n17  Another idea would have been the foundation fo...   \n\n                                             gnn_sent  mice_fluency  \\\n8   'radio' is a beautiful movie based on a real s...      0.058631   \n9   this is crap of the best films i have ever see...      0.107492   \n12  i've been strangely attracted to this film sin...      0.030744   \n16  here's another of the 1940's westerns that i w...      0.202065   \n17  featuring some amazing and wonderful character...      0.138934   \n\n    pj_fluency  gnn_fluency  mice_minimality  pj_minimality  gnn_minimality  \\\n8     0.849228     0.032284         0.310000       0.990000        0.006667   \n9     0.851975     0.035598         0.188525       0.852459        0.008197   \n12    0.984899     0.009921         0.204545       1.000000        0.007576   \n16    0.908451     0.101182         0.467213       0.975410        0.024590   \n17    0.896311     0.013809         0.165138       0.798165        0.009174   \n\n    mice_label_flip  pj_label_flip  gnn_label_flip  \n8                 1              0               1  \n9                 1              1               1  \n12                1              1               1  \n16                1              0               1  \n17                1              0               1  ",
      "text/html": "<div>\n<style scoped>\n    .dataframe tbody tr th:only-of-type {\n        vertical-align: middle;\n    }\n\n    .dataframe tbody tr th {\n        vertical-align: top;\n    }\n\n    .dataframe thead th {\n        text-align: right;\n    }\n</style>\n<table border=\"1\" class=\"dataframe\">\n  <thead>\n    <tr style=\"text-align: right;\">\n      <th></th>\n      <th>orig_sent</th>\n      <th>mice_sent</th>\n      <th>pj_sent</th>\n      <th>gnn_sent</th>\n      <th>mice_fluency</th>\n      <th>pj_fluency</th>\n      <th>gnn_fluency</th>\n      <th>mice_minimality</th>\n      <th>pj_minimality</th>\n      <th>gnn_minimality</th>\n      <th>mice_label_flip</th>\n      <th>pj_label_flip</th>\n      <th>gnn_label_flip</th>\n    </tr>\n  </thead>\n  <tbody>\n    <tr>\n      <th>8</th>\n      <td>'Radio' is a beautiful movie based on a real s...</td>\n      <td>'Radio' is a  pretty bad movie that I only wat...</td>\n      <td>told a story, how great person always.</td>\n      <td>'radio' is a beautiful movie based on a real s...</td>\n      <td>0.058631</td>\n      <td>0.849228</td>\n      <td>0.032284</td>\n      <td>0.310000</td>\n      <td>0.990000</td>\n      <td>0.006667</td>\n      <td>1</td>\n      <td>0</td>\n      <td>1</td>\n    </tr>\n    <tr>\n      <th>9</th>\n      <td>This is one of the best films I have ever seen...</td>\n      <td>This is one of the best films I have ever seen...</td>\n      <td>This is one of the worst films I have ever see...</td>\n      <td>this is crap of the best films i have ever see...</td>\n      <td>0.107492</td>\n      <td>0.851975</td>\n      <td>0.035598</td>\n      <td>0.188525</td>\n      <td>0.852459</td>\n      <td>0.008197</td>\n      <td>1</td>\n      <td>1</td>\n      <td>1</td>\n    </tr>\n    <tr>\n      <th>12</th>\n      <td>I've been strangely attracted to this film sin...</td>\n      <td>I've been  looking forward to this film since ...</td>\n      <td>[ANSWER]</td>\n      <td>i've been strangely attracted to this film sin...</td>\n      <td>0.030744</td>\n      <td>0.984899</td>\n      <td>0.009921</td>\n      <td>0.204545</td>\n      <td>1.000000</td>\n      <td>0.007576</td>\n      <td>1</td>\n      <td>1</td>\n      <td>1</td>\n    </tr>\n    <tr>\n      <th>16</th>\n      <td>Here's another of the 1940's westerns that I w...</td>\n      <td>I thought this movie was crap. I won't let an...</td>\n      <td>This is one of the straight up films you will ...</td>\n      <td>here's another of the 1940's westerns that i w...</td>\n      <td>0.202065</td>\n      <td>0.908451</td>\n      <td>0.101182</td>\n      <td>0.467213</td>\n      <td>0.975410</td>\n      <td>0.024590</td>\n      <td>1</td>\n      <td>0</td>\n      <td>1</td>\n    </tr>\n    <tr>\n      <th>17</th>\n      <td>Featuring some amazing and wonderful character...</td>\n      <td>With some  great acting and  music, a new  ca...</td>\n      <td>Another idea would have been the foundation fo...</td>\n      <td>featuring some amazing and wonderful character...</td>\n      <td>0.138934</td>\n      <td>0.896311</td>\n      <td>0.013809</td>\n      <td>0.165138</td>\n      <td>0.798165</td>\n      <td>0.009174</td>\n      <td>1</td>\n      <td>0</td>\n      <td>1</td>\n    </tr>\n  </tbody>\n</table>\n</div>"
     },
     "execution_count": 44,
     "metadata": {},
     "output_type": "execute_result"
    }
   ],
   "source": [
    "filtered_sents_df.head()"
   ],
   "metadata": {
    "collapsed": false
   }
  },
  {
   "cell_type": "code",
   "execution_count": 47,
   "outputs": [
    {
     "data": {
      "text/plain": "26"
     },
     "execution_count": 47,
     "metadata": {},
     "output_type": "execute_result"
    }
   ],
   "source": [
    "final_sents_df = filtered_sents_df[filtered_sents_df['gnn_label_flip'] == 1]\n",
    "final_sents_df.shape[0]"
   ],
   "metadata": {
    "collapsed": false
   }
  },
  {
   "cell_type": "code",
   "execution_count": 50,
   "outputs": [
    {
     "name": "stderr",
     "output_type": "stream",
     "text": [
      "C:\\Users\\jimli\\AppData\\Local\\Temp\\ipykernel_11840\\4238511372.py:1: SettingWithCopyWarning: \n",
      "A value is trying to be set on a copy of a slice from a DataFrame.\n",
      "Try using .loc[row_indexer,col_indexer] = value instead\n",
      "\n",
      "See the caveats in the documentation: https://pandas.pydata.org/pandas-docs/stable/user_guide/indexing.html#returning-a-view-versus-a-copy\n",
      "  final_sents_df['sentence_length'] = final_sents_df['orig_sent'].apply(lambda x: len(x.split()))\n"
     ]
    }
   ],
   "source": [
    "final_sents_df['sentence_length'] = final_sents_df['orig_sent'].apply(lambda x: len(x.split()))"
   ],
   "metadata": {
    "collapsed": false
   }
  },
  {
   "cell_type": "code",
   "execution_count": 51,
   "outputs": [],
   "source": [
    "final_sents_df.to_csv(\"C:/Users/jimli/Desktop/final_imdb_sents.csv\", index=False)"
   ],
   "metadata": {
    "collapsed": false
   }
  },
  {
   "cell_type": "code",
   "execution_count": 58,
   "outputs": [],
   "source": [
    "metrics_df = final_sents_df.sort_values('sentence_length', ascending=True, axis=0, ignore_index=True).head(4)\n",
    "metrics_df.to_csv(\"C:/Users/jimli/Desktop/metrics_imdb_sents.csv\", index=False)"
   ],
   "metadata": {
    "collapsed": false
   }
  },
  {
   "cell_type": "code",
   "execution_count": 71,
   "outputs": [
    {
     "name": "stdout",
     "output_type": "stream",
     "text": [
      "Original: This movie will likely be too sentimental for many viewers, especially contemporary audiences. Nevertheless I enjoyed this film thanks mostly to the down-to-earth charm of William Holden, one of my favorite stars, and the dazzling beauty of Jennifer Jones. There are some truly heartwarming scenes between the pair and the talent of these two actors rescues what in lesser hands could've been trite lines. The cinematography of Hong Kong from the period of filming is another highlight of this movie. All in all, a better than average romantic drama, 7/10.\n",
      "\n",
      "\n",
      "\n",
      "MiCE: This movie will likely be too  harsh for many  conservative,  conservative audiences.  Personally I enjoyed this film thanks mostly to the  brilliant acting of William  Powell, both of  whom have the dazzling beauty of Jennifer Jones. There are some truly heart warming scenes between the pair and the talent of these two actors  enhances what in  less than average hands could've been trite lines. The  beautiful performance of Hong  Kong from the  onset of filming is another highlight of this movie. All in all, a better than  average romantic drama, 4/10.\n",
      "\n",
      "\n",
      "\n",
      "Polyjuice: This movie will likely be too sentimental for many viewers, especially contemporary audiences. Nevertheless I enjoyed this film thanks mostly to the down-to-earth charm of William Holden, one of my favorite stars, and the dazzling beauty of Jennifer Jones. There are some truly heartwarming scenes between the pair and the talent of these two actors rescues what in lesser hands could've been trite lines. The cinematography of Hong Kong from the period of filming is another highlight of this movie. All in all, of.\n",
      "\n",
      "\n",
      "\n",
      "Ours: this movie will likely be too sentimental for many viewers, especially contemporary audiences. nevertheless i enjoyed this film thanks mostly to the down-to-earth charm of william holden, one of my favorite stars, and the dazzling beauty of jennifer jones. there are some truly heartwarming scenes between the pair and the talent of these two actors rescues what in lesser hands could've been trite lines. the cinematography of hong kong from the period of filming is another highlight of this movie. all in all, a better than average shame drama, 7/10.\n"
     ]
    }
   ],
   "source": [
    "best_metric_texts = metrics_df.iloc[3].to_dict()\n",
    "print('Original:', best_metric_texts['orig_sent'])\n",
    "print(\"\\n\\n\")\n",
    "print('MiCE:', best_metric_texts['mice_sent'])\n",
    "print(\"\\n\\n\")\n",
    "print('Polyjuice:', best_metric_texts['pj_sent'])\n",
    "print(\"\\n\\n\")\n",
    "print('Ours:', best_metric_texts['gnn_sent'])\n"
   ],
   "metadata": {
    "collapsed": false
   }
  },
  {
   "cell_type": "code",
   "execution_count": 61,
   "outputs": [],
   "source": [
    "nlp = spacy.load('en_core_web_sm')"
   ],
   "metadata": {
    "collapsed": false
   }
  },
  {
   "cell_type": "code",
   "execution_count": 69,
   "outputs": [
    {
     "name": "stdout",
     "output_type": "stream",
     "text": [
      "romantic ADJ\n",
      "shameful ADJ\n"
     ]
    }
   ],
   "source": [
    "doc = 'romantic shameful'\n",
    "doc = nlp(doc)\n",
    "for token in doc:\n",
    "    print(token.text, token.pos_)"
   ],
   "metadata": {
    "collapsed": false
   }
  }
 ],
 "metadata": {
  "kernelspec": {
   "display_name": "Python 3",
   "language": "python",
   "name": "python3"
  },
  "language_info": {
   "codemirror_mode": {
    "name": "ipython",
    "version": 2
   },
   "file_extension": ".py",
   "mimetype": "text/x-python",
   "name": "python",
   "nbconvert_exporter": "python",
   "pygments_lexer": "ipython2",
   "version": "2.7.6"
  }
 },
 "nbformat": 4,
 "nbformat_minor": 0
}
